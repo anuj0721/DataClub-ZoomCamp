{
  "nbformat": 4,
  "nbformat_minor": 0,
  "metadata": {
    "kernelspec": {
      "language": "python",
      "display_name": "Python 3",
      "name": "python3"
    },
    "language_info": {
      "name": "python",
      "version": "3.7.10",
      "mimetype": "text/x-python",
      "codemirror_mode": {
        "name": "ipython",
        "version": 3
      },
      "pygments_lexer": "ipython3",
      "nbconvert_exporter": "python",
      "file_extension": ".py"
    },
    "colab": {
      "name": "notebook142e60b60e.ipynb",
      "provenance": []
    }
  },
  "cells": [
    {
      "cell_type": "code",
      "metadata": {
        "_uuid": "8f2839f25d086af736a60e9eeb907d3b93b6e0e5",
        "_cell_guid": "b1076dfc-b9ad-4769-8c92-a6c4dae69d19",
        "execution": {
          "iopub.status.busy": "2021-09-16T18:42:54.150756Z",
          "iopub.execute_input": "2021-09-16T18:42:54.151060Z",
          "iopub.status.idle": "2021-09-16T18:42:54.155988Z",
          "shell.execute_reply.started": "2021-09-16T18:42:54.151025Z",
          "shell.execute_reply": "2021-09-16T18:42:54.155168Z"
        },
        "trusted": true,
        "id": "1SsICvnF9lQA"
      },
      "source": [
        "# This Python 3 environment comes with many helpful analytics libraries installed\n",
        "# It is defined by the kaggle/python Docker image: https://github.com/kaggle/docker-python\n",
        "# For example, here's several helpful packages to load\n",
        "\n",
        "import numpy as np # linear algebra\n",
        "import pandas as pd # data processing, CSV file I/O (e.g. pd.read_csv)\n",
        "\n",
        "# Input data files are available in the read-only \"../input/\" directory\n",
        "# For example, running this (by clicking run or pressing Shift+Enter) will list all files under the input directory\n",
        "\n",
        "import os\n",
        "# for dirname, _, filenames in os.walk('/kaggle/input'):\n",
        "#     for filename in filenames:\n",
        "#         print(os.path.join(dirname, filename))\n",
        "\n",
        "# You can write up to 20GB to the current directory (/kaggle/working/) that gets preserved as output when you create a version using \"Save & Run All\" \n",
        "# You can also write temporary files to /kaggle/temp/, but they won't be saved outside of the current session"
      ],
      "execution_count": 1,
      "outputs": []
    },
    {
      "cell_type": "code",
      "metadata": {
        "colab": {
          "base_uri": "https://localhost:8080/"
        },
        "id": "WnNXqt5u9nM6",
        "outputId": "9adf1850-edce-44bb-e2b3-aa14ad18ad17"
      },
      "source": [
        "! wget https://raw.githubusercontent.com/alexeygrigorev/datasets/master/AB_NYC_2019.csv"
      ],
      "execution_count": 2,
      "outputs": [
        {
          "output_type": "stream",
          "name": "stdout",
          "text": [
            "--2021-09-17 07:31:47--  https://raw.githubusercontent.com/alexeygrigorev/datasets/master/AB_NYC_2019.csv\n",
            "Resolving raw.githubusercontent.com (raw.githubusercontent.com)... 185.199.108.133, 185.199.110.133, 185.199.109.133, ...\n",
            "Connecting to raw.githubusercontent.com (raw.githubusercontent.com)|185.199.108.133|:443... connected.\n",
            "HTTP request sent, awaiting response... 200 OK\n",
            "Length: 7077973 (6.8M) [text/plain]\n",
            "Saving to: ‘AB_NYC_2019.csv.3’\n",
            "\n",
            "AB_NYC_2019.csv.3   100%[===================>]   6.75M  --.-KB/s    in 0.07s   \n",
            "\n",
            "2021-09-17 07:31:48 (102 MB/s) - ‘AB_NYC_2019.csv.3’ saved [7077973/7077973]\n",
            "\n"
          ]
        }
      ]
    },
    {
      "cell_type": "code",
      "metadata": {
        "execution": {
          "iopub.status.busy": "2021-09-16T18:42:54.339027Z",
          "iopub.execute_input": "2021-09-16T18:42:54.339491Z",
          "iopub.status.idle": "2021-09-16T18:42:54.653492Z",
          "shell.execute_reply.started": "2021-09-16T18:42:54.339444Z",
          "shell.execute_reply": "2021-09-16T18:42:54.652717Z"
        },
        "trusted": true,
        "colab": {
          "base_uri": "https://localhost:8080/",
          "height": 406
        },
        "id": "_1E1QJoC9lQD",
        "outputId": "a47490ad-eed5-40b8-ac9a-f5d18e182f90"
      },
      "source": [
        "data = pd.read_csv('AB_NYC_2019.csv')\n",
        "data.head()"
      ],
      "execution_count": 3,
      "outputs": [
        {
          "output_type": "execute_result",
          "data": {
            "text/html": [
              "<div>\n",
              "<style scoped>\n",
              "    .dataframe tbody tr th:only-of-type {\n",
              "        vertical-align: middle;\n",
              "    }\n",
              "\n",
              "    .dataframe tbody tr th {\n",
              "        vertical-align: top;\n",
              "    }\n",
              "\n",
              "    .dataframe thead th {\n",
              "        text-align: right;\n",
              "    }\n",
              "</style>\n",
              "<table border=\"1\" class=\"dataframe\">\n",
              "  <thead>\n",
              "    <tr style=\"text-align: right;\">\n",
              "      <th></th>\n",
              "      <th>id</th>\n",
              "      <th>name</th>\n",
              "      <th>host_id</th>\n",
              "      <th>host_name</th>\n",
              "      <th>neighbourhood_group</th>\n",
              "      <th>neighbourhood</th>\n",
              "      <th>latitude</th>\n",
              "      <th>longitude</th>\n",
              "      <th>room_type</th>\n",
              "      <th>price</th>\n",
              "      <th>minimum_nights</th>\n",
              "      <th>number_of_reviews</th>\n",
              "      <th>last_review</th>\n",
              "      <th>reviews_per_month</th>\n",
              "      <th>calculated_host_listings_count</th>\n",
              "      <th>availability_365</th>\n",
              "    </tr>\n",
              "  </thead>\n",
              "  <tbody>\n",
              "    <tr>\n",
              "      <th>0</th>\n",
              "      <td>2539</td>\n",
              "      <td>Clean &amp; quiet apt home by the park</td>\n",
              "      <td>2787</td>\n",
              "      <td>John</td>\n",
              "      <td>Brooklyn</td>\n",
              "      <td>Kensington</td>\n",
              "      <td>40.64749</td>\n",
              "      <td>-73.97237</td>\n",
              "      <td>Private room</td>\n",
              "      <td>149</td>\n",
              "      <td>1</td>\n",
              "      <td>9</td>\n",
              "      <td>2018-10-19</td>\n",
              "      <td>0.21</td>\n",
              "      <td>6</td>\n",
              "      <td>365</td>\n",
              "    </tr>\n",
              "    <tr>\n",
              "      <th>1</th>\n",
              "      <td>2595</td>\n",
              "      <td>Skylit Midtown Castle</td>\n",
              "      <td>2845</td>\n",
              "      <td>Jennifer</td>\n",
              "      <td>Manhattan</td>\n",
              "      <td>Midtown</td>\n",
              "      <td>40.75362</td>\n",
              "      <td>-73.98377</td>\n",
              "      <td>Entire home/apt</td>\n",
              "      <td>225</td>\n",
              "      <td>1</td>\n",
              "      <td>45</td>\n",
              "      <td>2019-05-21</td>\n",
              "      <td>0.38</td>\n",
              "      <td>2</td>\n",
              "      <td>355</td>\n",
              "    </tr>\n",
              "    <tr>\n",
              "      <th>2</th>\n",
              "      <td>3647</td>\n",
              "      <td>THE VILLAGE OF HARLEM....NEW YORK !</td>\n",
              "      <td>4632</td>\n",
              "      <td>Elisabeth</td>\n",
              "      <td>Manhattan</td>\n",
              "      <td>Harlem</td>\n",
              "      <td>40.80902</td>\n",
              "      <td>-73.94190</td>\n",
              "      <td>Private room</td>\n",
              "      <td>150</td>\n",
              "      <td>3</td>\n",
              "      <td>0</td>\n",
              "      <td>NaN</td>\n",
              "      <td>NaN</td>\n",
              "      <td>1</td>\n",
              "      <td>365</td>\n",
              "    </tr>\n",
              "    <tr>\n",
              "      <th>3</th>\n",
              "      <td>3831</td>\n",
              "      <td>Cozy Entire Floor of Brownstone</td>\n",
              "      <td>4869</td>\n",
              "      <td>LisaRoxanne</td>\n",
              "      <td>Brooklyn</td>\n",
              "      <td>Clinton Hill</td>\n",
              "      <td>40.68514</td>\n",
              "      <td>-73.95976</td>\n",
              "      <td>Entire home/apt</td>\n",
              "      <td>89</td>\n",
              "      <td>1</td>\n",
              "      <td>270</td>\n",
              "      <td>2019-07-05</td>\n",
              "      <td>4.64</td>\n",
              "      <td>1</td>\n",
              "      <td>194</td>\n",
              "    </tr>\n",
              "    <tr>\n",
              "      <th>4</th>\n",
              "      <td>5022</td>\n",
              "      <td>Entire Apt: Spacious Studio/Loft by central park</td>\n",
              "      <td>7192</td>\n",
              "      <td>Laura</td>\n",
              "      <td>Manhattan</td>\n",
              "      <td>East Harlem</td>\n",
              "      <td>40.79851</td>\n",
              "      <td>-73.94399</td>\n",
              "      <td>Entire home/apt</td>\n",
              "      <td>80</td>\n",
              "      <td>10</td>\n",
              "      <td>9</td>\n",
              "      <td>2018-11-19</td>\n",
              "      <td>0.10</td>\n",
              "      <td>1</td>\n",
              "      <td>0</td>\n",
              "    </tr>\n",
              "  </tbody>\n",
              "</table>\n",
              "</div>"
            ],
            "text/plain": [
              "     id  ... availability_365\n",
              "0  2539  ...              365\n",
              "1  2595  ...              355\n",
              "2  3647  ...              365\n",
              "3  3831  ...              194\n",
              "4  5022  ...                0\n",
              "\n",
              "[5 rows x 16 columns]"
            ]
          },
          "metadata": {},
          "execution_count": 3
        }
      ]
    },
    {
      "cell_type": "code",
      "metadata": {
        "execution": {
          "iopub.status.busy": "2021-09-16T18:42:54.831299Z",
          "iopub.execute_input": "2021-09-16T18:42:54.831695Z",
          "iopub.status.idle": "2021-09-16T18:42:55.757626Z",
          "shell.execute_reply.started": "2021-09-16T18:42:54.831662Z",
          "shell.execute_reply": "2021-09-16T18:42:55.756750Z"
        },
        "trusted": true,
        "id": "BH7ByThZ9lQE"
      },
      "source": [
        "import matplotlib.pyplot as plt\n",
        "import seaborn as sns"
      ],
      "execution_count": 4,
      "outputs": []
    },
    {
      "cell_type": "code",
      "metadata": {
        "execution": {
          "iopub.status.busy": "2021-09-16T18:42:55.759607Z",
          "iopub.execute_input": "2021-09-16T18:42:55.759920Z",
          "iopub.status.idle": "2021-09-16T18:42:55.772240Z",
          "shell.execute_reply.started": "2021-09-16T18:42:55.759879Z",
          "shell.execute_reply": "2021-09-16T18:42:55.771215Z"
        },
        "trusted": true,
        "colab": {
          "base_uri": "https://localhost:8080/"
        },
        "id": "RFfa_R5j9lQF",
        "outputId": "9169e707-f5d5-4d85-e92f-54a5e14d72eb"
      },
      "source": [
        "price = data.price\n",
        "price"
      ],
      "execution_count": 5,
      "outputs": [
        {
          "output_type": "execute_result",
          "data": {
            "text/plain": [
              "0        149\n",
              "1        225\n",
              "2        150\n",
              "3         89\n",
              "4         80\n",
              "        ... \n",
              "48890     70\n",
              "48891     40\n",
              "48892    115\n",
              "48893     55\n",
              "48894     90\n",
              "Name: price, Length: 48895, dtype: int64"
            ]
          },
          "metadata": {},
          "execution_count": 5
        }
      ]
    },
    {
      "cell_type": "code",
      "metadata": {
        "execution": {
          "iopub.status.busy": "2021-09-16T18:42:55.773443Z",
          "iopub.execute_input": "2021-09-16T18:42:55.773802Z",
          "iopub.status.idle": "2021-09-16T18:42:56.205233Z",
          "shell.execute_reply.started": "2021-09-16T18:42:55.773770Z",
          "shell.execute_reply": "2021-09-16T18:42:56.204295Z"
        },
        "trusted": true,
        "colab": {
          "base_uri": "https://localhost:8080/",
          "height": 296
        },
        "id": "ZpW_EbYC9lQF",
        "outputId": "cd4e4516-18c8-4564-84ff-4c4d286b8b8d"
      },
      "source": [
        "sns.histplot(data.price[data.price<2000], bins=50)"
      ],
      "execution_count": 6,
      "outputs": [
        {
          "output_type": "execute_result",
          "data": {
            "text/plain": [
              "<matplotlib.axes._subplots.AxesSubplot at 0x7f2dfdb44850>"
            ]
          },
          "metadata": {},
          "execution_count": 6
        },
        {
          "output_type": "display_data",
          "data": {
            "image/png": "[encoded data removed]",
            "text/plain": [
              "<Figure size 432x288 with 1 Axes>"
            ]
          },
          "metadata": {
            "needs_background": "light"
          }
        }
      ]
    },
    {
      "cell_type": "code",
      "metadata": {
        "execution": {
          "iopub.status.busy": "2021-09-16T18:42:56.207049Z",
          "iopub.execute_input": "2021-09-16T18:42:56.207349Z",
          "iopub.status.idle": "2021-09-16T18:42:56.214604Z",
          "shell.execute_reply.started": "2021-09-16T18:42:56.207318Z",
          "shell.execute_reply": "2021-09-16T18:42:56.213668Z"
        },
        "trusted": true,
        "colab": {
          "base_uri": "https://localhost:8080/"
        },
        "id": "0o-xSyVs9lQG",
        "outputId": "83e4438e-c390-45ae-d32a-1390a62e1916"
      },
      "source": [
        "data.columns"
      ],
      "execution_count": 7,
      "outputs": [
        {
          "output_type": "execute_result",
          "data": {
            "text/plain": [
              "Index(['id', 'name', 'host_id', 'host_name', 'neighbourhood_group',\n",
              "       'neighbourhood', 'latitude', 'longitude', 'room_type', 'price',\n",
              "       'minimum_nights', 'number_of_reviews', 'last_review',\n",
              "       'reviews_per_month', 'calculated_host_listings_count',\n",
              "       'availability_365'],\n",
              "      dtype='object')"
            ]
          },
          "metadata": {},
          "execution_count": 7
        }
      ]
    },
    {
      "cell_type": "code",
      "metadata": {
        "execution": {
          "iopub.status.busy": "2021-09-16T18:42:56.215716Z",
          "iopub.execute_input": "2021-09-16T18:42:56.215934Z",
          "iopub.status.idle": "2021-09-16T18:42:56.228785Z",
          "shell.execute_reply.started": "2021-09-16T18:42:56.215909Z",
          "shell.execute_reply": "2021-09-16T18:42:56.227794Z"
        },
        "trusted": true,
        "id": "FUS9NtKu9lQG"
      },
      "source": [
        "df = data.loc[:, ['latitude', 'longitude', 'price', 'minimum_nights', 'number_of_reviews', 'reviews_per_month',\n",
        "                    'calculated_host_listings_count', 'availability_365']]"
      ],
      "execution_count": 8,
      "outputs": []
    },
    {
      "cell_type": "code",
      "metadata": {
        "execution": {
          "iopub.status.busy": "2021-09-16T18:42:56.277676Z",
          "iopub.execute_input": "2021-09-16T18:42:56.277918Z",
          "iopub.status.idle": "2021-09-16T18:42:56.287786Z",
          "shell.execute_reply.started": "2021-09-16T18:42:56.277888Z",
          "shell.execute_reply": "2021-09-16T18:42:56.286582Z"
        },
        "trusted": true,
        "colab": {
          "base_uri": "https://localhost:8080/"
        },
        "id": "HAS8uKN99lQI",
        "outputId": "9e080fb5-57ed-4159-ded8-f6d3735d6903"
      },
      "source": [
        "df.isnull().sum()"
      ],
      "execution_count": 9,
      "outputs": [
        {
          "output_type": "execute_result",
          "data": {
            "text/plain": [
              "latitude                              0\n",
              "longitude                             0\n",
              "price                                 0\n",
              "minimum_nights                        0\n",
              "number_of_reviews                     0\n",
              "reviews_per_month                 10052\n",
              "calculated_host_listings_count        0\n",
              "availability_365                      0\n",
              "dtype: int64"
            ]
          },
          "metadata": {},
          "execution_count": 9
        }
      ]
    },
    {
      "cell_type": "code",
      "metadata": {
        "execution": {
          "iopub.status.busy": "2021-09-16T18:42:56.289237Z",
          "iopub.execute_input": "2021-09-16T18:42:56.289502Z",
          "iopub.status.idle": "2021-09-16T18:42:56.301628Z",
          "shell.execute_reply.started": "2021-09-16T18:42:56.289475Z",
          "shell.execute_reply": "2021-09-16T18:42:56.300667Z"
        },
        "trusted": true,
        "colab": {
          "base_uri": "https://localhost:8080/"
        },
        "id": "JM24MsIG9lQJ",
        "outputId": "cfa74473-848b-4a99-ff53-ad542099f216"
      },
      "source": [
        "np.median(df['minimum_nights'])"
      ],
      "execution_count": 10,
      "outputs": [
        {
          "output_type": "execute_result",
          "data": {
            "text/plain": [
              "3.0"
            ]
          },
          "metadata": {},
          "execution_count": 10
        }
      ]
    },
    {
      "cell_type": "code",
      "metadata": {
        "execution": {
          "iopub.status.busy": "2021-09-16T18:42:56.305266Z",
          "iopub.execute_input": "2021-09-16T18:42:56.305805Z",
          "iopub.status.idle": "2021-09-16T18:42:56.310770Z",
          "shell.execute_reply.started": "2021-09-16T18:42:56.305770Z",
          "shell.execute_reply": "2021-09-16T18:42:56.309922Z"
        },
        "trusted": true,
        "colab": {
          "base_uri": "https://localhost:8080/"
        },
        "id": "vTbIuUDt9lQJ",
        "outputId": "910a9854-1347-4073-df47-c33f60e8cc38"
      },
      "source": [
        "df.shape"
      ],
      "execution_count": 11,
      "outputs": [
        {
          "output_type": "execute_result",
          "data": {
            "text/plain": [
              "(48895, 8)"
            ]
          },
          "metadata": {},
          "execution_count": 11
        }
      ]
    },
    {
      "cell_type": "code",
      "metadata": {
        "execution": {
          "iopub.status.busy": "2021-09-16T18:52:45.252736Z",
          "iopub.execute_input": "2021-09-16T18:52:45.253631Z",
          "iopub.status.idle": "2021-09-16T18:52:45.291279Z",
          "shell.execute_reply.started": "2021-09-16T18:52:45.253578Z",
          "shell.execute_reply": "2021-09-16T18:52:45.290227Z"
        },
        "trusted": true,
        "colab": {
          "base_uri": "https://localhost:8080/"
        },
        "id": "JI46bbEM9lQK",
        "outputId": "8402251d-0ac0-446f-9e88-caccea2b20b0"
      },
      "source": [
        "idx = np.arange(df.shape[0])\n",
        "np.random.seed(42)\n",
        "np.random.shuffle(idx)\n",
        "idx"
      ],
      "execution_count": 12,
      "outputs": [
        {
          "output_type": "execute_result",
          "data": {
            "text/plain": [
              "array([  879, 44383, 15394, ..., 38158,   860, 15795])"
            ]
          },
          "metadata": {},
          "execution_count": 12
        }
      ]
    },
    {
      "cell_type": "code",
      "metadata": {
        "execution": {
          "iopub.status.busy": "2021-09-16T18:42:56.390800Z",
          "iopub.execute_input": "2021-09-16T18:42:56.391108Z",
          "iopub.status.idle": "2021-09-16T18:42:56.395351Z",
          "shell.execute_reply.started": "2021-09-16T18:42:56.391075Z",
          "shell.execute_reply": "2021-09-16T18:42:56.394544Z"
        },
        "trusted": true,
        "id": "fji_t_GF9lQL"
      },
      "source": [
        "price = df.price"
      ],
      "execution_count": 13,
      "outputs": []
    },
    {
      "cell_type": "code",
      "metadata": {
        "execution": {
          "iopub.status.busy": "2021-09-16T18:42:56.396560Z",
          "iopub.execute_input": "2021-09-16T18:42:56.396769Z",
          "iopub.status.idle": "2021-09-16T18:42:56.420836Z",
          "shell.execute_reply.started": "2021-09-16T18:42:56.396744Z",
          "shell.execute_reply": "2021-09-16T18:42:56.420190Z"
        },
        "trusted": true,
        "id": "O6fr86ca9lQL"
      },
      "source": [
        "df.drop('price', axis=1, inplace = True)"
      ],
      "execution_count": 14,
      "outputs": []
    },
    {
      "cell_type": "code",
      "metadata": {
        "execution": {
          "iopub.status.busy": "2021-09-16T18:43:27.051110Z",
          "iopub.execute_input": "2021-09-16T18:43:27.051379Z",
          "iopub.status.idle": "2021-09-16T18:43:27.056115Z",
          "shell.execute_reply.started": "2021-09-16T18:43:27.051350Z",
          "shell.execute_reply": "2021-09-16T18:43:27.055559Z"
        },
        "trusted": true,
        "id": "DgIV8uev9lQL"
      },
      "source": [
        "n = df.shape[0]\n",
        "n_val = int(n * 0.2)\n",
        "n_test = int(n * 0.2)\n",
        "n_train = n - n_val - n_test"
      ],
      "execution_count": 15,
      "outputs": []
    },
    {
      "cell_type": "code",
      "metadata": {
        "execution": {
          "iopub.status.busy": "2021-09-16T18:43:28.194234Z",
          "iopub.execute_input": "2021-09-16T18:43:28.195178Z",
          "iopub.status.idle": "2021-09-16T18:43:28.199810Z",
          "shell.execute_reply.started": "2021-09-16T18:43:28.195125Z",
          "shell.execute_reply": "2021-09-16T18:43:28.198894Z"
        },
        "trusted": true,
        "id": "_zwUbHCX9lQL"
      },
      "source": [
        "df_train = df.iloc[idx[:n_train]]\n",
        "df_val = df.iloc[idx[n_train:n_train+n_val]]\n",
        "df_test = df.iloc[idx[n_train+n_val:]]"
      ],
      "execution_count": 16,
      "outputs": []
    },
    {
      "cell_type": "code",
      "metadata": {
        "id": "4UsO746KA8sE"
      },
      "source": [
        "df_train = df_train.reset_index(drop = True)\n",
        "df_val = df_val.reset_index(drop = True)\n",
        "df_test = df_test.reset_index(drop = True)"
      ],
      "execution_count": 17,
      "outputs": []
    },
    {
      "cell_type": "code",
      "metadata": {
        "colab": {
          "base_uri": "https://localhost:8080/"
        },
        "id": "sfm3Tba--n9B",
        "outputId": "af095cd9-2118-4ebf-be17-966ec08a71ee"
      },
      "source": [
        "df.shape"
      ],
      "execution_count": 18,
      "outputs": [
        {
          "output_type": "execute_result",
          "data": {
            "text/plain": [
              "(48895, 7)"
            ]
          },
          "metadata": {},
          "execution_count": 18
        }
      ]
    },
    {
      "cell_type": "code",
      "metadata": {
        "execution": {
          "iopub.status.busy": "2021-09-16T18:43:28.355265Z",
          "iopub.execute_input": "2021-09-16T18:43:28.356044Z",
          "iopub.status.idle": "2021-09-16T18:43:28.363601Z",
          "shell.execute_reply.started": "2021-09-16T18:43:28.356009Z",
          "shell.execute_reply": "2021-09-16T18:43:28.363020Z"
        },
        "trusted": true,
        "id": "saqBZixp9lQM"
      },
      "source": [
        "log_price = np.log1p(price)"
      ],
      "execution_count": 19,
      "outputs": []
    },
    {
      "cell_type": "code",
      "metadata": {
        "execution": {
          "iopub.status.busy": "2021-09-16T18:44:46.310295Z",
          "iopub.execute_input": "2021-09-16T18:44:46.310599Z",
          "iopub.status.idle": "2021-09-16T18:44:46.316019Z",
          "shell.execute_reply.started": "2021-09-16T18:44:46.310570Z",
          "shell.execute_reply": "2021-09-16T18:44:46.315145Z"
        },
        "trusted": true,
        "id": "66MOZlth9lQM"
      },
      "source": [
        "price_train = log_price.iloc[idx[:n_train]]\n",
        "price_val = log_price.iloc[idx[n_train:n_train+n_val]]\n",
        "price_test = log_price.iloc[idx[n_train+n_val:]]"
      ],
      "execution_count": 20,
      "outputs": []
    },
    {
      "cell_type": "code",
      "metadata": {
        "execution": {
          "iopub.status.busy": "2021-09-16T18:44:47.432502Z",
          "iopub.execute_input": "2021-09-16T18:44:47.433336Z",
          "iopub.status.idle": "2021-09-16T18:44:47.439002Z",
          "shell.execute_reply.started": "2021-09-16T18:44:47.433288Z",
          "shell.execute_reply": "2021-09-16T18:44:47.438305Z"
        },
        "trusted": true,
        "id": "aYmG7xLR9lQM"
      },
      "source": [
        "def train_linear_regression(X, y):\n",
        "    ones = np.ones(X.shape[0])\n",
        "    X = np.column_stack([ones, X])\n",
        "\n",
        "    XTX = X.T.dot(X)\n",
        "    XTX_inv = np.linalg.inv(XTX)\n",
        "    w_full = XTX_inv.dot(X.T).dot(y)\n",
        "    \n",
        "    return w_full[0], w_full[1:]"
      ],
      "execution_count": 21,
      "outputs": []
    },
    {
      "cell_type": "code",
      "metadata": {
        "id": "LxqC-R-i9lQN"
      },
      "source": [
        "def rmse(y, y_pred):\n",
        "    se = (y - y_pred) ** 2\n",
        "    mse = se.mean()\n",
        "    return np.sqrt(mse)"
      ],
      "execution_count": 22,
      "outputs": []
    },
    {
      "cell_type": "code",
      "metadata": {
        "execution": {
          "iopub.status.busy": "2021-09-16T18:44:47.587661Z",
          "iopub.execute_input": "2021-09-16T18:44:47.587957Z",
          "iopub.status.idle": "2021-09-16T18:44:47.602165Z",
          "shell.execute_reply.started": "2021-09-16T18:44:47.587926Z",
          "shell.execute_reply": "2021-09-16T18:44:47.601295Z"
        },
        "trusted": true,
        "colab": {
          "base_uri": "https://localhost:8080/"
        },
        "id": "CApE09n99lQN",
        "outputId": "8de55d2b-ffff-4590-eb30-656510ef9fa5"
      },
      "source": [
        "X_train = df_train.fillna(0).values\n",
        "y_train = price_train.values\n",
        "train_linear_regression(X_train, y_train)"
      ],
      "execution_count": 23,
      "outputs": [
        {
          "output_type": "execute_result",
          "data": {
            "text/plain": [
              "(-419.91265973795873,\n",
              " array([ 1.30676226e+00, -5.02167856e+00, -5.59803111e-04, -4.07634897e-04,\n",
              "        -8.25470060e-03,  1.33371319e-03,  6.50203891e-04]))"
            ]
          },
          "metadata": {},
          "execution_count": 23
        }
      ]
    },
    {
      "cell_type": "code",
      "metadata": {
        "execution": {
          "iopub.status.busy": "2021-09-16T18:44:48.610849Z",
          "iopub.execute_input": "2021-09-16T18:44:48.611104Z",
          "iopub.status.idle": "2021-09-16T18:44:48.620315Z",
          "shell.execute_reply.started": "2021-09-16T18:44:48.611077Z",
          "shell.execute_reply": "2021-09-16T18:44:48.619509Z"
        },
        "trusted": true,
        "id": "FpaCP5oD9lQN"
      },
      "source": [
        "w0, w = train_linear_regression(X_train, y_train)"
      ],
      "execution_count": 24,
      "outputs": []
    },
    {
      "cell_type": "code",
      "metadata": {
        "execution": {
          "iopub.status.busy": "2021-09-16T18:44:48.819269Z",
          "iopub.execute_input": "2021-09-16T18:44:48.819670Z",
          "iopub.status.idle": "2021-09-16T18:44:48.829628Z",
          "shell.execute_reply.started": "2021-09-16T18:44:48.819628Z",
          "shell.execute_reply": "2021-09-16T18:44:48.828737Z"
        },
        "trusted": true,
        "id": "LmT4-WTJ9lQN"
      },
      "source": [
        "df_val_filled0 = df_val.fillna(0).values\n",
        "y_pred_val = w0 + df_val_filled0.dot(w)"
      ],
      "execution_count": 25,
      "outputs": []
    },
    {
      "cell_type": "code",
      "metadata": {
        "execution": {
          "iopub.status.busy": "2021-09-16T18:44:50.336019Z",
          "iopub.execute_input": "2021-09-16T18:44:50.336446Z",
          "iopub.status.idle": "2021-09-16T18:44:50.344089Z",
          "shell.execute_reply.started": "2021-09-16T18:44:50.336408Z",
          "shell.execute_reply": "2021-09-16T18:44:50.343002Z"
        },
        "trusted": true,
        "colab": {
          "base_uri": "https://localhost:8080/"
        },
        "id": "M7ArVQ289lQN",
        "outputId": "0eaa0559-9245-46d1-e395-2657dd28a761"
      },
      "source": [
        "rmse(y_pred_val, price_val).round(2)"
      ],
      "execution_count": 26,
      "outputs": [
        {
          "output_type": "execute_result",
          "data": {
            "text/plain": [
              "0.64"
            ]
          },
          "metadata": {},
          "execution_count": 26
        }
      ]
    },
    {
      "cell_type": "code",
      "metadata": {
        "execution": {
          "iopub.status.busy": "2021-09-16T18:46:49.848187Z",
          "iopub.execute_input": "2021-09-16T18:46:49.848497Z",
          "iopub.status.idle": "2021-09-16T18:46:49.870076Z",
          "shell.execute_reply.started": "2021-09-16T18:46:49.848465Z",
          "shell.execute_reply": "2021-09-16T18:46:49.869129Z"
        },
        "trusted": true,
        "id": "EJ2E57yn9lQN"
      },
      "source": [
        "X_train_filled_mean = df_train.fillna(df_train.mean()).values\n",
        "y_train = price_train.values\n",
        "train_linear_regression(X_train_filled_mean, y_train)\n",
        "w0, w = train_linear_regression(X_train_filled_mean, y_train)\n",
        "df_val_filled_mean = df_val.fillna(df_train.mean()).values\n",
        "y_pred_val_filled_mean = w0 + df_val_filled_mean.dot(w)"
      ],
      "execution_count": 27,
      "outputs": []
    },
    {
      "cell_type": "code",
      "metadata": {
        "execution": {
          "iopub.status.busy": "2021-09-16T18:47:01.589246Z",
          "iopub.execute_input": "2021-09-16T18:47:01.589837Z",
          "iopub.status.idle": "2021-09-16T18:47:01.597112Z",
          "shell.execute_reply.started": "2021-09-16T18:47:01.589797Z",
          "shell.execute_reply": "2021-09-16T18:47:01.596022Z"
        },
        "trusted": true,
        "colab": {
          "base_uri": "https://localhost:8080/"
        },
        "id": "f7xljT-_9lQO",
        "outputId": "df8cbd3b-821c-418e-917e-20bc8a44b097"
      },
      "source": [
        "rmse(y_pred_val_filled_mean, price_val).round(2)"
      ],
      "execution_count": 28,
      "outputs": [
        {
          "output_type": "execute_result",
          "data": {
            "text/plain": [
              "0.64"
            ]
          },
          "metadata": {},
          "execution_count": 28
        }
      ]
    },
    {
      "cell_type": "code",
      "metadata": {
        "id": "fRnpum9fDBKX"
      },
      "source": [
        "def train_linear_regression_reg(X, y, r):\n",
        "    ones = np.ones(X.shape[0])\n",
        "    X = np.column_stack([ones, X])\n",
        "\n",
        "    XTX = X.T.dot(X)\n",
        "    XTX = XTX + r * np.eye(XTX.shape[0])\n",
        "\n",
        "    XTX_inv = np.linalg.inv(XTX)\n",
        "    w_full = XTX_inv.dot(X.T).dot(y)\n",
        "    \n",
        "    return w_full[0], w_full[1:]"
      ],
      "execution_count": 29,
      "outputs": []
    },
    {
      "cell_type": "code",
      "metadata": {
        "colab": {
          "base_uri": "https://localhost:8080/"
        },
        "id": "XtF-pJOk9lQO",
        "outputId": "537adb9b-3d71-4d54-c5be-ef99d5124cd7"
      },
      "source": [
        "scores = {}\n",
        "for r in [0, 0.000001, 0.0001, 0.001, 0.01, 0.1, 1, 5, 10]:\n",
        "    w0, w = train_linear_regression_reg(X_train, y_train, r=r)\n",
        "\n",
        "    X_val = df_val.fillna(0).values\n",
        "\n",
        "    y_pred = w0 + X_val.dot(w)\n",
        "    score = rmse(price_val, y_pred)\n",
        "    scores[r] = score.round(2)\n",
        "\n",
        "scores"
      ],
      "execution_count": 30,
      "outputs": [
        {
          "output_type": "execute_result",
          "data": {
            "text/plain": [
              "{0: 0.64,\n",
              " 1e-06: 0.64,\n",
              " 0.0001: 0.64,\n",
              " 0.001: 0.64,\n",
              " 0.01: 0.66,\n",
              " 0.1: 0.68,\n",
              " 1: 0.68,\n",
              " 5: 0.68,\n",
              " 10: 0.68}"
            ]
          },
          "metadata": {},
          "execution_count": 30
        }
      ]
    },
    {
      "cell_type": "code",
      "metadata": {
        "id": "iFrOwBM3C40c"
      },
      "source": [
        "score = []\n",
        "for seed_value in [0, 1, 2, 3, 4, 5, 6, 7, 8, 9]:\n",
        "    idx = np.arange(df.shape[0])\n",
        "    np.random.seed(seed_value)\n",
        "    np.random.shuffle(idx)\n",
        "    df_train = df.iloc[idx[:n_train]].reset_index(drop = True)\n",
        "    df_val = df.iloc[idx[n_train:n_train+n_val]].reset_index(drop = True)\n",
        "    df_test = df.iloc[idx[n_train+n_val:]].reset_index(drop = True)\n",
        "    price_train = log_price.iloc[idx[:n_train]]\n",
        "    price_val = log_price.iloc[idx[n_train:n_train+n_val]]\n",
        "    price_test = log_price.iloc[idx[n_train+n_val:]]\n",
        "    X_train = df_train.fillna(0).values\n",
        "    y_train = price_train.values\n",
        "    w0, w = train_linear_regression(X_train, y_train)\n",
        "    df_val_filled0 = df_val.fillna(0).values\n",
        "    y_pred_val = w0 + df_val_filled0.dot(w)\n",
        "    score.append(rmse(y_pred_val, price_val))"
      ],
      "execution_count": 31,
      "outputs": []
    },
    {
      "cell_type": "code",
      "metadata": {
        "colab": {
          "base_uri": "https://localhost:8080/"
        },
        "id": "hiBfvQuse9kQ",
        "outputId": "c1581b36-69cf-44b2-8da9-4e87e2b005f7"
      },
      "source": [
        "np.std(score).round(3)"
      ],
      "execution_count": 32,
      "outputs": [
        {
          "output_type": "execute_result",
          "data": {
            "text/plain": [
              "0.008"
            ]
          },
          "metadata": {},
          "execution_count": 32
        }
      ]
    },
    {
      "cell_type": "code",
      "metadata": {
        "id": "TsJC78ErfBcX"
      },
      "source": [
        "idx = np.arange(df.shape[0])\n",
        "np.random.seed(9)\n",
        "np.random.shuffle(idx)\n",
        "df_train = df.iloc[idx[:n_train+n_val]].reset_index(drop = True)\n",
        "df_test = df.iloc[idx[n_train+n_val:]].reset_index(drop = True)"
      ],
      "execution_count": 33,
      "outputs": []
    },
    {
      "cell_type": "code",
      "metadata": {
        "id": "gotRI3GvgVef"
      },
      "source": [
        "price_train = log_price.iloc[idx[:n_train+n_val]]\n",
        "price_test = log_price.iloc[idx[n_train+n_val:]]"
      ],
      "execution_count": 34,
      "outputs": []
    },
    {
      "cell_type": "code",
      "metadata": {
        "id": "zm5w9KOWgk-d"
      },
      "source": [
        "def train_linear_regression_reg(X, y, r):\n",
        "    ones = np.ones(X.shape[0])\n",
        "    X = np.column_stack([ones, X])\n",
        "\n",
        "    XTX = X.T.dot(X)\n",
        "    XTX = XTX + r * np.eye(XTX.shape[0])\n",
        "\n",
        "    XTX_inv = np.linalg.inv(XTX)\n",
        "    w_full = XTX_inv.dot(X.T).dot(y)\n",
        "    \n",
        "    return w_full[0], w_full[1:]"
      ],
      "execution_count": 35,
      "outputs": []
    },
    {
      "cell_type": "code",
      "metadata": {
        "id": "L_ty7AE5grUl"
      },
      "source": [
        "df_train = df_train.fillna(0).values\n",
        "df_test = df_test.fillna(0).values\n",
        "w0, w = train_linear_regression_reg(df_train, price_train, 0.001)\n",
        "y_pred = w0 + df_test.dot(w)"
      ],
      "execution_count": 36,
      "outputs": []
    },
    {
      "cell_type": "code",
      "metadata": {
        "colab": {
          "base_uri": "https://localhost:8080/"
        },
        "id": "3fQyH2pIjgUZ",
        "outputId": "6ae4d254-f6f0-495f-a63d-4d54b4e60b8e"
      },
      "source": [
        "rmse(price_test, y_pred).round(2)"
      ],
      "execution_count": 37,
      "outputs": [
        {
          "output_type": "execute_result",
          "data": {
            "text/plain": [
              "0.65"
            ]
          },
          "metadata": {},
          "execution_count": 37
        }
      ]
    }
  ]
}
