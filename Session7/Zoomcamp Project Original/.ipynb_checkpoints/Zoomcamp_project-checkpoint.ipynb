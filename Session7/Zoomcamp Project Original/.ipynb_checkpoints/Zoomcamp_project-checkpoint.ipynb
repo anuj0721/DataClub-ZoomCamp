{
 "cells": [
  {
   "cell_type": "code",
   "execution_count": 1,
   "metadata": {
    "colab": {
     "base_uri": "https://localhost:8080/"
    },
    "id": "bULqE6HGNibW",
    "outputId": "84fb84a6-c856-469a-c973-bab4e5ab04e8"
   },
   "outputs": [],
   "source": [
    "# from google.colab import drive\n",
    "# drive.mount('/content/drive')"
   ]
  },
  {
   "cell_type": "code",
   "execution_count": 113,
   "metadata": {
    "id": "gxOF1bjqTxmt"
   },
   "outputs": [],
   "source": [
    "import pandas as pd\n",
    "import numpy as np\n",
    "from sklearn.model_selection  import train_test_split\n",
    "from sklearn.feature_extraction import DictVectorizer\n",
    "from sklearn.linear_model import LogisticRegression\n",
    "from sklearn.metrics import accuracy_score\n",
    "from sklearn.tree import DecisionTreeClassifier\n",
    "from sklearn.ensemble import RandomForestClassifier\n",
    "import xgboost as xgb\n",
    "import matplotlib.pyplot as plt\n",
    "import pickle as pkl"
   ]
  },
  {
   "cell_type": "code",
   "execution_count": 3,
   "metadata": {
    "id": "Twh_W88gT8yR"
   },
   "outputs": [],
   "source": [
    "df_train = pd.read_csv('new_train.csv')\n",
    "df_test = pd.read_csv('new_test.csv')"
   ]
  },
  {
   "cell_type": "code",
   "execution_count": 4,
   "metadata": {
    "colab": {
     "base_uri": "https://localhost:8080/",
     "height": 203
    },
    "id": "Ka-eF3mQUUtS",
    "outputId": "e977c0bf-16c8-444b-fa7c-111d8fbb80a5"
   },
   "outputs": [
    {
     "data": {
      "text/html": [
       "<div>\n",
       "<style scoped>\n",
       "    .dataframe tbody tr th:only-of-type {\n",
       "        vertical-align: middle;\n",
       "    }\n",
       "\n",
       "    .dataframe tbody tr th {\n",
       "        vertical-align: top;\n",
       "    }\n",
       "\n",
       "    .dataframe thead th {\n",
       "        text-align: right;\n",
       "    }\n",
       "</style>\n",
       "<table border=\"1\" class=\"dataframe\">\n",
       "  <thead>\n",
       "    <tr style=\"text-align: right;\">\n",
       "      <th></th>\n",
       "      <th>age</th>\n",
       "      <th>job</th>\n",
       "      <th>marital</th>\n",
       "      <th>education</th>\n",
       "      <th>default</th>\n",
       "      <th>housing</th>\n",
       "      <th>loan</th>\n",
       "      <th>contact</th>\n",
       "      <th>month</th>\n",
       "      <th>day_of_week</th>\n",
       "      <th>duration</th>\n",
       "      <th>campaign</th>\n",
       "      <th>pdays</th>\n",
       "      <th>previous</th>\n",
       "      <th>poutcome</th>\n",
       "      <th>y</th>\n",
       "    </tr>\n",
       "  </thead>\n",
       "  <tbody>\n",
       "    <tr>\n",
       "      <th>0</th>\n",
       "      <td>49</td>\n",
       "      <td>blue-collar</td>\n",
       "      <td>married</td>\n",
       "      <td>basic.9y</td>\n",
       "      <td>unknown</td>\n",
       "      <td>no</td>\n",
       "      <td>no</td>\n",
       "      <td>cellular</td>\n",
       "      <td>nov</td>\n",
       "      <td>wed</td>\n",
       "      <td>227</td>\n",
       "      <td>4</td>\n",
       "      <td>999</td>\n",
       "      <td>0</td>\n",
       "      <td>nonexistent</td>\n",
       "      <td>no</td>\n",
       "    </tr>\n",
       "    <tr>\n",
       "      <th>1</th>\n",
       "      <td>37</td>\n",
       "      <td>entrepreneur</td>\n",
       "      <td>married</td>\n",
       "      <td>university.degree</td>\n",
       "      <td>no</td>\n",
       "      <td>no</td>\n",
       "      <td>no</td>\n",
       "      <td>telephone</td>\n",
       "      <td>nov</td>\n",
       "      <td>wed</td>\n",
       "      <td>202</td>\n",
       "      <td>2</td>\n",
       "      <td>999</td>\n",
       "      <td>1</td>\n",
       "      <td>failure</td>\n",
       "      <td>no</td>\n",
       "    </tr>\n",
       "    <tr>\n",
       "      <th>2</th>\n",
       "      <td>78</td>\n",
       "      <td>retired</td>\n",
       "      <td>married</td>\n",
       "      <td>basic.4y</td>\n",
       "      <td>no</td>\n",
       "      <td>no</td>\n",
       "      <td>no</td>\n",
       "      <td>cellular</td>\n",
       "      <td>jul</td>\n",
       "      <td>mon</td>\n",
       "      <td>1148</td>\n",
       "      <td>1</td>\n",
       "      <td>999</td>\n",
       "      <td>0</td>\n",
       "      <td>nonexistent</td>\n",
       "      <td>yes</td>\n",
       "    </tr>\n",
       "    <tr>\n",
       "      <th>3</th>\n",
       "      <td>36</td>\n",
       "      <td>admin.</td>\n",
       "      <td>married</td>\n",
       "      <td>university.degree</td>\n",
       "      <td>no</td>\n",
       "      <td>yes</td>\n",
       "      <td>no</td>\n",
       "      <td>telephone</td>\n",
       "      <td>may</td>\n",
       "      <td>mon</td>\n",
       "      <td>120</td>\n",
       "      <td>2</td>\n",
       "      <td>999</td>\n",
       "      <td>0</td>\n",
       "      <td>nonexistent</td>\n",
       "      <td>no</td>\n",
       "    </tr>\n",
       "    <tr>\n",
       "      <th>4</th>\n",
       "      <td>59</td>\n",
       "      <td>retired</td>\n",
       "      <td>divorced</td>\n",
       "      <td>university.degree</td>\n",
       "      <td>no</td>\n",
       "      <td>no</td>\n",
       "      <td>no</td>\n",
       "      <td>cellular</td>\n",
       "      <td>jun</td>\n",
       "      <td>tue</td>\n",
       "      <td>368</td>\n",
       "      <td>2</td>\n",
       "      <td>999</td>\n",
       "      <td>0</td>\n",
       "      <td>nonexistent</td>\n",
       "      <td>no</td>\n",
       "    </tr>\n",
       "  </tbody>\n",
       "</table>\n",
       "</div>"
      ],
      "text/plain": [
       "   age           job   marital  ... previous     poutcome    y\n",
       "0   49   blue-collar   married  ...        0  nonexistent   no\n",
       "1   37  entrepreneur   married  ...        1      failure   no\n",
       "2   78       retired   married  ...        0  nonexistent  yes\n",
       "3   36        admin.   married  ...        0  nonexistent   no\n",
       "4   59       retired  divorced  ...        0  nonexistent   no\n",
       "\n",
       "[5 rows x 16 columns]"
      ]
     },
     "execution_count": 4,
     "metadata": {},
     "output_type": "execute_result"
    }
   ],
   "source": [
    "df_train.head()"
   ]
  },
  {
   "cell_type": "code",
   "execution_count": 6,
   "metadata": {
    "colab": {
     "base_uri": "https://localhost:8080/"
    },
    "id": "n3PzNcKWweZM",
    "outputId": "c9a12a94-121a-4f8a-d35f-567aba6b9afe"
   },
   "outputs": [
    {
     "data": {
      "text/plain": [
       "0    0\n",
       "1    0\n",
       "2    1\n",
       "3    0\n",
       "4    0\n",
       "Name: y, dtype: int64"
      ]
     },
     "execution_count": 6,
     "metadata": {},
     "output_type": "execute_result"
    }
   ],
   "source": [
    "df_train['y'] = df_train['y'].map({'yes': 1, 'no': 0})\n",
    "df_train.y.head()"
   ]
  },
  {
   "cell_type": "code",
   "execution_count": 7,
   "metadata": {
    "id": "pPgCQICUdoEV"
   },
   "outputs": [],
   "source": [
    "df_train.drop('pdays', axis = 1, inplace = True)\n",
    "df_train.drop('previous', axis = 1, inplace = True)"
   ]
  },
  {
   "cell_type": "code",
   "execution_count": 8,
   "metadata": {
    "colab": {
     "base_uri": "https://localhost:8080/"
    },
    "id": "X0bOBQZSVbFk",
    "outputId": "0e34aaf6-99a7-4b70-962e-49ed3248d5f1"
   },
   "outputs": [
    {
     "data": {
      "text/plain": [
       "((32950, 14), (8238, 13))"
      ]
     },
     "execution_count": 8,
     "metadata": {},
     "output_type": "execute_result"
    }
   ],
   "source": [
    "df_train.shape, df_test.shape"
   ]
  },
  {
   "cell_type": "code",
   "execution_count": 9,
   "metadata": {
    "id": "Ki7VheNmdBMo"
   },
   "outputs": [],
   "source": [
    "y = df_train.y\n",
    "df_train.drop('y', axis = 1, inplace = True)"
   ]
  },
  {
   "cell_type": "code",
   "execution_count": 10,
   "metadata": {
    "colab": {
     "base_uri": "https://localhost:8080/"
    },
    "id": "Cn6Blk0FVf77",
    "outputId": "27b6e56f-5472-4678-fdcd-8c28531716af"
   },
   "outputs": [
    {
     "data": {
      "text/plain": [
       "Index(['age', 'job', 'marital', 'education', 'default', 'housing', 'loan',\n",
       "       'contact', 'month', 'day_of_week', 'duration', 'campaign', 'poutcome'],\n",
       "      dtype='object')"
      ]
     },
     "execution_count": 10,
     "metadata": {},
     "output_type": "execute_result"
    }
   ],
   "source": [
    "df_train.columns"
   ]
  },
  {
   "cell_type": "code",
   "execution_count": 11,
   "metadata": {
    "colab": {
     "base_uri": "https://localhost:8080/"
    },
    "id": "qU4kmsVqcaMo",
    "outputId": "61926e5a-082a-412d-aeb9-05f0579ec8d9"
   },
   "outputs": [
    {
     "data": {
      "text/plain": [
       "((26360, 13), (6590, 13))"
      ]
     },
     "execution_count": 11,
     "metadata": {},
     "output_type": "execute_result"
    }
   ],
   "source": [
    "df_train, df_val, y_train, y_val = train_test_split(df_train, y, test_size = 0.2)\n",
    "df_train.shape, df_val.shape"
   ]
  },
  {
   "cell_type": "code",
   "execution_count": 12,
   "metadata": {
    "id": "PRHedYi7XZJd"
   },
   "outputs": [],
   "source": [
    "dv = DictVectorizer(sparse=False)\n",
    "train_dict = df_train.to_dict(orient='records')\n",
    "X_train = dv.fit_transform(train_dict)\n",
    "\n",
    "val_dict = df_val.to_dict(orient='records')\n",
    "X_val = dv.transform(val_dict)"
   ]
  },
  {
   "cell_type": "code",
   "execution_count": 13,
   "metadata": {
    "colab": {
     "base_uri": "https://localhost:8080/"
    },
    "id": "OEGbgqgxcyJq",
    "outputId": "5a167e02-41a7-4496-9d36-493895d82a1e"
   },
   "outputs": [
    {
     "data": {
      "text/plain": [
       "((26360, 56), (6590, 56), (26360,), (6590,))"
      ]
     },
     "execution_count": 13,
     "metadata": {},
     "output_type": "execute_result"
    }
   ],
   "source": [
    "X_train.shape, X_val.shape, y_train.shape, y_val.shape"
   ]
  },
  {
   "cell_type": "markdown",
   "metadata": {
    "id": "z92ZtUMHfV2m"
   },
   "source": [
    "# Logistic Regression"
   ]
  },
  {
   "cell_type": "code",
   "execution_count": 14,
   "metadata": {
    "colab": {
     "base_uri": "https://localhost:8080/"
    },
    "id": "uuHLh-2DfZp8",
    "outputId": "ab07e7a1-b54f-423a-ef12-04fbfd4f0bef"
   },
   "outputs": [
    {
     "name": "stderr",
     "output_type": "stream",
     "text": [
      "/usr/local/lib/python3.7/dist-packages/sklearn/linear_model/_logistic.py:940: ConvergenceWarning: lbfgs failed to converge (status=1):\n",
      "STOP: TOTAL NO. of ITERATIONS REACHED LIMIT.\n",
      "\n",
      "Increase the number of iterations (max_iter) or scale the data as shown in:\n",
      "    https://scikit-learn.org/stable/modules/preprocessing.html\n",
      "Please also refer to the documentation for alternative solver options:\n",
      "    https://scikit-learn.org/stable/modules/linear_model.html#logistic-regression\n",
      "  extra_warning_msg=_LOGISTIC_SOLVER_CONVERGENCE_MSG)\n"
     ]
    },
    {
     "data": {
      "text/plain": [
       "LogisticRegression(C=1.0, class_weight=None, dual=False, fit_intercept=True,\n",
       "                   intercept_scaling=1, l1_ratio=None, max_iter=100,\n",
       "                   multi_class='auto', n_jobs=None, penalty='l2',\n",
       "                   random_state=None, solver='lbfgs', tol=0.0001, verbose=0,\n",
       "                   warm_start=False)"
      ]
     },
     "execution_count": 14,
     "metadata": {},
     "output_type": "execute_result"
    }
   ],
   "source": [
    "lrclf = LogisticRegression(solver='lbfgs', C=1.0)\n",
    "lrclf.fit(X_train, y_train)"
   ]
  },
  {
   "cell_type": "code",
   "execution_count": 15,
   "metadata": {
    "colab": {
     "base_uri": "https://localhost:8080/"
    },
    "id": "8Wy6IAMUgC0r",
    "outputId": "fe55b4fa-f2ee-477f-c810-66cf35bb5fd3"
   },
   "outputs": [
    {
     "data": {
      "text/plain": [
       "array([0, 0, 0, ..., 0, 0, 0])"
      ]
     },
     "execution_count": 15,
     "metadata": {},
     "output_type": "execute_result"
    }
   ],
   "source": [
    "lr_predicted = lrclf.predict(X_val)\n",
    "lr_predicted"
   ]
  },
  {
   "cell_type": "code",
   "execution_count": 16,
   "metadata": {
    "colab": {
     "base_uri": "https://localhost:8080/"
    },
    "id": "iTDrTorsgJTl",
    "outputId": "9ad212ed-196b-49c1-966f-3755523fdce9"
   },
   "outputs": [
    {
     "data": {
      "text/plain": [
       "0.9040971168437025"
      ]
     },
     "execution_count": 16,
     "metadata": {},
     "output_type": "execute_result"
    }
   ],
   "source": [
    "lr_score = accuracy_score(lr_predicted, y_val)\n",
    "lr_score"
   ]
  },
  {
   "cell_type": "markdown",
   "metadata": {
    "id": "BhQ04f6TkDJJ"
   },
   "source": [
    "# Decision Tree"
   ]
  },
  {
   "cell_type": "code",
   "execution_count": 17,
   "metadata": {
    "colab": {
     "base_uri": "https://localhost:8080/"
    },
    "id": "scMSMdJikIVB",
    "outputId": "a5228d1d-e3e4-42c9-bcea-1d0030c957ca"
   },
   "outputs": [
    {
     "data": {
      "text/plain": [
       "DecisionTreeClassifier(ccp_alpha=0.0, class_weight=None, criterion='gini',\n",
       "                       max_depth=None, max_features=None, max_leaf_nodes=None,\n",
       "                       min_impurity_decrease=0.0, min_impurity_split=None,\n",
       "                       min_samples_leaf=1, min_samples_split=2,\n",
       "                       min_weight_fraction_leaf=0.0, presort='deprecated',\n",
       "                       random_state=None, splitter='best')"
      ]
     },
     "execution_count": 17,
     "metadata": {},
     "output_type": "execute_result"
    }
   ],
   "source": [
    "dt = DecisionTreeClassifier()\n",
    "dt.fit(X_train, y_train)"
   ]
  },
  {
   "cell_type": "code",
   "execution_count": 18,
   "metadata": {
    "colab": {
     "base_uri": "https://localhost:8080/"
    },
    "id": "3Y1xNSX_nRTs",
    "outputId": "1f8fdc61-2d4e-4dcb-d2fc-11184a696b9a"
   },
   "outputs": [
    {
     "data": {
      "text/plain": [
       "array([0, 0, 0, ..., 0, 0, 0])"
      ]
     },
     "execution_count": 18,
     "metadata": {},
     "output_type": "execute_result"
    }
   ],
   "source": [
    "dt_predicted = dt.predict(X_val)\n",
    "dt_predicted"
   ]
  },
  {
   "cell_type": "code",
   "execution_count": 19,
   "metadata": {
    "colab": {
     "base_uri": "https://localhost:8080/"
    },
    "id": "BJXUYw9rngNC",
    "outputId": "81c8efef-3566-4ef0-e2b1-4ff29e6b04b7"
   },
   "outputs": [
    {
     "data": {
      "text/plain": [
       "0.8755690440060698"
      ]
     },
     "execution_count": 19,
     "metadata": {},
     "output_type": "execute_result"
    }
   ],
   "source": [
    "dt_score = accuracy_score(dt_predicted, y_val)\n",
    "dt_score"
   ]
  },
  {
   "cell_type": "markdown",
   "metadata": {
    "id": "cCfGbAhZn9Po"
   },
   "source": [
    "# Random Forest"
   ]
  },
  {
   "cell_type": "code",
   "execution_count": 72,
   "metadata": {
    "id": "31oHzLBHny6Y"
   },
   "outputs": [],
   "source": [
    "max_depth = [10, 15, 20, 25]\n",
    "best_score = 0\n",
    "rf_scores = {}\n",
    "for depth in max_depth:\n",
    "    score = []\n",
    "    for n_estimator in list(np.arange(10, 201, 5)):\n",
    "        rf = RandomForestClassifier(n_estimators=n_estimator, n_jobs = -1, max_depth = depth)\n",
    "        rf.fit(X_train, y_train)\n",
    "        pred = rf.predict(X_val)\n",
    "        score.append((n_estimator, accuracy_score(pred, y_val)))\n",
    "    rf_scores[depth] = score"
   ]
  },
  {
   "cell_type": "code",
   "execution_count": 73,
   "metadata": {
    "colab": {
     "base_uri": "https://localhost:8080/",
     "height": 265
    },
    "id": "vYPQW9O0yjga",
    "outputId": "e79163d1-5d59-4a31-aa72-564f40b15a41"
   },
   "outputs": [
    {
     "data": {
      "image/png": "[encoded data removed]",
      "text/plain": [
       "<Figure size 432x288 with 1 Axes>"
      ]
     },
     "metadata": {
      "needs_background": "light"
     },
     "output_type": "display_data"
    }
   ],
   "source": [
    "for depth, scores in rf_scores.items():\n",
    "    plt.plot(*zip(*scores), label='depth = %d' % depth)\n",
    "    plt.xlim(0, 200)\n",
    "plt.grid()\n",
    "plt.legend()\n",
    "plt.show()"
   ]
  },
  {
   "cell_type": "markdown",
   "metadata": {
    "id": "9hrqe1dwFyTA"
   },
   "source": [
    "depth = 20 and n_estimators = 65 is giving the best result "
   ]
  },
  {
   "cell_type": "markdown",
   "metadata": {
    "id": "1vDEeKriurat"
   },
   "source": [
    "# XGBoost"
   ]
  },
  {
   "cell_type": "code",
   "execution_count": 75,
   "metadata": {
    "id": "HfqcZ7s-utnW"
   },
   "outputs": [],
   "source": [
    "features = dv.get_feature_names()\n",
    "dtrain = xgb.DMatrix(X_train, label=y_train, feature_names=features)\n",
    "dval = xgb.DMatrix(X_val, label=y_val, feature_names=features)\n",
    "\n",
    "watchlist = [(dtrain, 'train'), (dval, 'val')]"
   ]
  },
  {
   "cell_type": "code",
   "execution_count": 76,
   "metadata": {
    "id": "49JC6qtgxZcv"
   },
   "outputs": [],
   "source": [
    "xgb_params = {\n",
    "    'eta': 0.3, \n",
    "    'max_depth': 6,\n",
    "    'min_child_weight': 1,\n",
    "\n",
    "    'objective': 'binary:logistic',\n",
    "    'eval_metric': 'auc',\n",
    "    'nthread': 8,\n",
    "\n",
    "    'seed': 1,\n",
    "    'verbosity': 1,\n",
    "}"
   ]
  },
  {
   "cell_type": "code",
   "execution_count": 77,
   "metadata": {
    "id": "oeb8aajP0qqe"
   },
   "outputs": [],
   "source": [
    "%%capture output\n",
    "# capture instruction that saves the result to output \n",
    "model = xgb.train(xgb_params, dtrain,\n",
    "                  num_boost_round=100,\n",
    "                  evals=watchlist, verbose_eval=10)"
   ]
  },
  {
   "cell_type": "code",
   "execution_count": 78,
   "metadata": {
    "id": "0WDltPqS0yWv"
   },
   "outputs": [],
   "source": [
    "def parse_xgb_output(output):\n",
    "    tree = []\n",
    "    p_train = []\n",
    "    p_val = []\n",
    "\n",
    "    for line in output.stdout.strip().split('\\n'):\n",
    "        it_line, train_line, val_line = line.split('\\t')\n",
    "\n",
    "        it = int(it_line.strip('[]'))\n",
    "        train = float(train_line.split(':')[1])\n",
    "        val = float(val_line.split(':')[1])\n",
    "\n",
    "        tree.append(it)\n",
    "        p_train.append(train)\n",
    "        p_val.append(val)\n",
    "\n",
    "    return tree, p_train, p_val\n",
    "\n",
    "tree, p_train, p_val = parse_xgb_output(output)"
   ]
  },
  {
   "cell_type": "code",
   "execution_count": 79,
   "metadata": {
    "colab": {
     "base_uri": "https://localhost:8080/"
    },
    "id": "wdEYo6wW03tX",
    "outputId": "6c034b93-78ac-402f-fac2-41f2c48671c0"
   },
   "outputs": [
    {
     "name": "stdout",
     "output_type": "stream",
     "text": [
      "Best performance  (0.923007, 20)\n"
     ]
    }
   ],
   "source": [
    "print('Best performance ', max(zip(p_val, tree)))"
   ]
  },
  {
   "cell_type": "markdown",
   "metadata": {
    "id": "cOTzE9wMJDvh"
   },
   "source": [
    "Tuning 'eta'"
   ]
  },
  {
   "cell_type": "code",
   "execution_count": 80,
   "metadata": {
    "id": "J1XledhT0_4K"
   },
   "outputs": [],
   "source": [
    "%%capture output_010\n",
    "# capture instruction that saves the result to output \n",
    "xgb_params['eta'] = 0.1\n",
    "model = xgb.train(xgb_params, dtrain,\n",
    "                  num_boost_round=100,\n",
    "                  evals=watchlist, verbose_eval=10)"
   ]
  },
  {
   "cell_type": "code",
   "execution_count": 81,
   "metadata": {
    "colab": {
     "base_uri": "https://localhost:8080/"
    },
    "id": "x1KW944B1Dkw",
    "outputId": "76da6d57-37ae-48fa-977a-73d2ba398d94"
   },
   "outputs": [
    {
     "name": "stdout",
     "output_type": "stream",
     "text": [
      "Eta=0.1 : Best performance  (0.924165, 99)\n"
     ]
    }
   ],
   "source": [
    "tree, _, p_val = parse_xgb_output(output_010)\n",
    "print(f'Eta={xgb_params[\"eta\"]} : Best performance ', max(zip(p_val, tree)))"
   ]
  },
  {
   "cell_type": "code",
   "execution_count": 82,
   "metadata": {
    "id": "7oCyBZt11HTX"
   },
   "outputs": [],
   "source": [
    "%%capture output_001\n",
    "# capture instruction that saves the result to output \n",
    "xgb_params['eta'] = 0.01\n",
    "model = xgb.train(xgb_params, dtrain,\n",
    "                  num_boost_round=100,\n",
    "                  evals=watchlist, verbose_eval=10)"
   ]
  },
  {
   "cell_type": "code",
   "execution_count": 84,
   "metadata": {
    "colab": {
     "base_uri": "https://localhost:8080/"
    },
    "id": "EPpZKZwW1MFG",
    "outputId": "6a1a1f78-204d-4230-baef-efd0cd67cfba"
   },
   "outputs": [
    {
     "name": "stdout",
     "output_type": "stream",
     "text": [
      "Eta=0.01 : Best performance  (0.905175, 99)\n"
     ]
    }
   ],
   "source": [
    "tree, _, p_val = parse_xgb_output(output_001)\n",
    "print(f'Eta={xgb_params[\"eta\"]} : Best performance ', max(zip(p_val, tree)))"
   ]
  },
  {
   "cell_type": "markdown",
   "metadata": {
    "id": "4_bcqQstJNsx"
   },
   "source": [
    "Eta = 0.1 gives the best result"
   ]
  },
  {
   "cell_type": "markdown",
   "metadata": {
    "id": "oLH7zAdfJd97"
   },
   "source": [
    "Tuning 'max_depth'"
   ]
  },
  {
   "cell_type": "code",
   "execution_count": 86,
   "metadata": {
    "id": "smewgJvfJyj4"
   },
   "outputs": [],
   "source": [
    "%%capture output_011\n",
    "# capture instruction that saves the result to output \n",
    "xgb_params['eta'] = 0.1\n",
    "xgb_params['max_depth'] = 1\n",
    "model = xgb.train(xgb_params, dtrain,\n",
    "                  num_boost_round=100,\n",
    "                  evals=watchlist, verbose_eval=10)"
   ]
  },
  {
   "cell_type": "code",
   "execution_count": 87,
   "metadata": {
    "colab": {
     "base_uri": "https://localhost:8080/"
    },
    "id": "3IgqkpSOKSdY",
    "outputId": "6cd34bc5-59a6-4d91-cc02-3bc09de105ae"
   },
   "outputs": [
    {
     "name": "stdout",
     "output_type": "stream",
     "text": [
      "max_depth=1 : Best performance  (0.901954, 99)\n"
     ]
    }
   ],
   "source": [
    "tree, _, p_val = parse_xgb_output(output_011)\n",
    "print(f'max_depth={xgb_params[\"max_depth\"]} : Best performance ', max(zip(p_val, tree)))"
   ]
  },
  {
   "cell_type": "code",
   "execution_count": 88,
   "metadata": {
    "id": "Br7Viks7KSgl"
   },
   "outputs": [],
   "source": [
    "%%capture output_100\n",
    "# capture instruction that saves the result to output \n",
    "xgb_params['eta'] = 0.1\n",
    "xgb_params['max_depth'] = 2\n",
    "model = xgb.train(xgb_params, dtrain,\n",
    "                  num_boost_round=100,\n",
    "                  evals=watchlist, verbose_eval=10)"
   ]
  },
  {
   "cell_type": "code",
   "execution_count": 89,
   "metadata": {
    "colab": {
     "base_uri": "https://localhost:8080/"
    },
    "id": "mjqnVCN5KSjR",
    "outputId": "ff8cc0e5-ee7c-4e99-a178-a5496438748f"
   },
   "outputs": [
    {
     "name": "stdout",
     "output_type": "stream",
     "text": [
      "max_depth=2 : Best performance  (0.916388, 99)\n"
     ]
    }
   ],
   "source": [
    "tree, _, p_val = parse_xgb_output(output_100)\n",
    "print(f'max_depth={xgb_params[\"max_depth\"]} : Best performance ', max(zip(p_val, tree)))"
   ]
  },
  {
   "cell_type": "code",
   "execution_count": 90,
   "metadata": {
    "id": "jLyjjTyfKuzJ"
   },
   "outputs": [],
   "source": [
    "%%capture output_101\n",
    "# capture instruction that saves the result to output \n",
    "xgb_params['eta'] = 0.1\n",
    "xgb_params['max_depth'] = 4\n",
    "model = xgb.train(xgb_params, dtrain,\n",
    "                  num_boost_round=100,\n",
    "                  evals=watchlist, verbose_eval=10)"
   ]
  },
  {
   "cell_type": "code",
   "execution_count": 91,
   "metadata": {
    "colab": {
     "base_uri": "https://localhost:8080/"
    },
    "id": "OUXQNG8hKu2O",
    "outputId": "8462c2e9-e70f-478f-a4f4-f901a7d1a378"
   },
   "outputs": [
    {
     "name": "stdout",
     "output_type": "stream",
     "text": [
      "max_depth=4 : Best performance  (0.923997, 99)\n"
     ]
    }
   ],
   "source": [
    "tree, _, p_val = parse_xgb_output(output_101)\n",
    "print(f'max_depth={xgb_params[\"max_depth\"]} : Best performance ', max(zip(p_val, tree)))"
   ]
  },
  {
   "cell_type": "code",
   "execution_count": 95,
   "metadata": {
    "id": "OBcH4VlDKu_p"
   },
   "outputs": [],
   "source": [
    "%%capture output_110\n",
    "# capture instruction that saves the result to output \n",
    "xgb_params['eta'] = 0.1\n",
    "xgb_params['max_depth'] = 5\n",
    "model = xgb.train(xgb_params, dtrain,\n",
    "                  num_boost_round=100,\n",
    "                  evals=watchlist, verbose_eval=10)"
   ]
  },
  {
   "cell_type": "code",
   "execution_count": 93,
   "metadata": {
    "colab": {
     "base_uri": "https://localhost:8080/"
    },
    "id": "wMrrSk4CKvCI",
    "outputId": "2bc9abcf-93d0-4fc7-b098-acbfda72b297"
   },
   "outputs": [
    {
     "name": "stdout",
     "output_type": "stream",
     "text": [
      "max_depth=5 : Best performance  (0.924635, 90)\n"
     ]
    }
   ],
   "source": [
    "tree, _, p_val = parse_xgb_output(output_110)\n",
    "print(f'max_depth={xgb_params[\"max_depth\"]} : Best performance ', max(zip(p_val, tree)))"
   ]
  },
  {
   "cell_type": "markdown",
   "metadata": {
    "id": "QQvHVGbjLWYy"
   },
   "source": [
    "max_depth = 5 gives the best result"
   ]
  },
  {
   "cell_type": "code",
   "execution_count": 101,
   "metadata": {
    "id": "oKgZNArvLNhN"
   },
   "outputs": [],
   "source": [
    "%%capture output_111\n",
    "# capture instruction that saves the result to output\n",
    "xgb_params['eta'] = 0.1\n",
    "xgb_params['max_depth'] = 5\n",
    "xgb_params['min_child_weight'] = 2\n",
    "model = xgb.train(xgb_params, dtrain,\n",
    "                  num_boost_round=100,\n",
    "                  evals=watchlist, verbose_eval=10)"
   ]
  },
  {
   "cell_type": "code",
   "execution_count": 102,
   "metadata": {
    "colab": {
     "base_uri": "https://localhost:8080/"
    },
    "id": "dLerPlKYLwmD",
    "outputId": "884514eb-51df-4d89-eab7-b43fd05791ce"
   },
   "outputs": [
    {
     "name": "stdout",
     "output_type": "stream",
     "text": [
      "min_child_weight=2 : Best performance  (0.925249, 90)\n"
     ]
    }
   ],
   "source": [
    "tree, _, p_val = parse_xgb_output(output_111)\n",
    "print(f'min_child_weight={xgb_params[\"min_child_weight\"]} : Best performance ', max(zip(p_val, tree)))"
   ]
  },
  {
   "cell_type": "code",
   "execution_count": 103,
   "metadata": {
    "id": "FLTWMnkfL8zh"
   },
   "outputs": [],
   "source": [
    "%%capture output_1001\n",
    "# capture instruction that saves the result to output\n",
    "xgb_params['eta'] = 0.1\n",
    "xgb_params['max_depth'] = 5\n",
    "xgb_params['min_child_weight'] = 3\n",
    "model = xgb.train(xgb_params, dtrain,\n",
    "                  num_boost_round=100,\n",
    "                  evals=watchlist, verbose_eval=10)"
   ]
  },
  {
   "cell_type": "code",
   "execution_count": 104,
   "metadata": {
    "colab": {
     "base_uri": "https://localhost:8080/"
    },
    "id": "HNF1skHvL82J",
    "outputId": "9aa1a2f4-a9c2-430d-99fd-f6818f816901"
   },
   "outputs": [
    {
     "name": "stdout",
     "output_type": "stream",
     "text": [
      "min_child_weight=3 : Best performance  (0.925817, 99)\n"
     ]
    }
   ],
   "source": [
    "tree, _, p_val = parse_xgb_output(output_1001)\n",
    "print(f'min_child_weight={xgb_params[\"min_child_weight\"]} : Best performance ', max(zip(p_val, tree)))"
   ]
  },
  {
   "cell_type": "markdown",
   "metadata": {
    "id": "OA1nv3nGMNQY"
   },
   "source": [
    "eta = 0.1, max_depth = 5 and min_child_weight = 3 gives the best result"
   ]
  },
  {
   "cell_type": "code",
   "execution_count": null,
   "metadata": {
    "id": "TyR8A-JWwYZv"
   },
   "outputs": [],
   "source": [
    "with open('model_pickle', 'wb') as f:\n",
    "    pkl.dump((dv, model), f)"
   ]
  },
  {
   "cell_type": "markdown",
   "metadata": {
    "id": "Af6CdPI12YQ9"
   },
   "source": [
    "# to delete"
   ]
  },
  {
   "cell_type": "code",
   "execution_count": 105,
   "metadata": {
    "id": "s34KJwAX2a-m"
   },
   "outputs": [],
   "source": [
    "xgb_params = {\n",
    "    'eta': 0.3, \n",
    "    'max_depth': 6,\n",
    "    'min_child_weight': 1,\n",
    "\n",
    "    'objective': 'binary:logistic',\n",
    "    'eval_metric': 'auc',\n",
    "    'nthread': 8,\n",
    "\n",
    "    'seed': 1,\n",
    "    'verbosity': 1,\n",
    "}"
   ]
  },
  {
   "cell_type": "code",
   "execution_count": 106,
   "metadata": {
    "colab": {
     "base_uri": "https://localhost:8080/"
    },
    "id": "ofJp9cTR2eRK",
    "outputId": "e30019ea-b15f-4abe-9286-be4a6a86a5c7"
   },
   "outputs": [
    {
     "name": "stdout",
     "output_type": "stream",
     "text": [
      "[0]\ttrain-auc:0.870854\tval-auc:0.868105\n",
      "[10]\ttrain-auc:0.939836\tval-auc:0.918568\n",
      "[20]\ttrain-auc:0.948198\tval-auc:0.923007\n",
      "[30]\ttrain-auc:0.953902\tval-auc:0.92232\n",
      "[40]\ttrain-auc:0.958724\tval-auc:0.921754\n",
      "[50]\ttrain-auc:0.962366\tval-auc:0.921662\n",
      "[60]\ttrain-auc:0.965508\tval-auc:0.920834\n",
      "[70]\ttrain-auc:0.968941\tval-auc:0.921047\n",
      "[80]\ttrain-auc:0.972064\tval-auc:0.920873\n",
      "[90]\ttrain-auc:0.974815\tval-auc:0.920179\n",
      "[99]\ttrain-auc:0.977803\tval-auc:0.920006\n"
     ]
    }
   ],
   "source": [
    "model = xgb.train(xgb_params, dtrain,\n",
    "                  num_boost_round=100,\n",
    "                  evals=watchlist, verbose_eval=10)"
   ]
  },
  {
   "cell_type": "code",
   "execution_count": 39,
   "metadata": {
    "id": "FvS9n8K22hpi"
   },
   "outputs": [],
   "source": [
    "%%capture output\n",
    "model = xgb.train(xgb_params, dtrain,\n",
    "                  num_boost_round=100,\n",
    "                  evals=watchlist, verbose_eval=10)"
   ]
  },
  {
   "cell_type": "code",
   "execution_count": null,
   "metadata": {
    "id": "2QP2COL6R0xG"
   },
   "outputs": [],
   "source": []
  },
  {
   "cell_type": "code",
   "execution_count": 44,
   "metadata": {
    "id": "2x5Kk4_l5orS"
   },
   "outputs": [],
   "source": [
    "s = output.stdout"
   ]
  },
  {
   "cell_type": "code",
   "execution_count": 47,
   "metadata": {
    "colab": {
     "base_uri": "https://localhost:8080/",
     "height": 69
    },
    "id": "wuHkVm8X51s7",
    "outputId": "36ff628b-36d6-4664-ffc9-09b8ac9d85db"
   },
   "outputs": [
    {
     "data": {
      "application/vnd.google.colaboratory.intrinsic+json": {
       "type": "string"
      },
      "text/plain": [
       "'[0]\\ttrain-auc:0.870854\\tval-auc:0.868105\\n[10]\\ttrain-auc:0.939836\\tval-auc:0.918568\\n[20]\\ttrain-auc:0.948198\\tval-auc:0.923007\\n[30]\\ttrain-auc:0.953902\\tval-auc:0.92232\\n[40]\\ttrain-auc:0.958724\\tval-auc:0.921754\\n[50]\\ttrain-auc:0.962366\\tval-auc:0.921662\\n[60]\\ttrain-auc:0.965508\\tval-auc:0.920834\\n[70]\\ttrain-auc:0.968941\\tval-auc:0.921047\\n[80]\\ttrain-auc:0.972064\\tval-auc:0.920873\\n[90]\\ttrain-auc:0.974815\\tval-auc:0.920179\\n[99]\\ttrain-auc:0.977803\\tval-auc:0.920006\\n'"
      ]
     },
     "execution_count": 47,
     "metadata": {},
     "output_type": "execute_result"
    }
   ],
   "source": [
    "s"
   ]
  },
  {
   "cell_type": "code",
   "execution_count": 56,
   "metadata": {
    "colab": {
     "base_uri": "https://localhost:8080/"
    },
    "id": "vZZ0peNk52Yb",
    "outputId": "63a59fe8-a789-443a-b926-6d86b20e6962"
   },
   "outputs": [
    {
     "data": {
      "text/plain": [
       "['[0]\\ttrain-auc:0.870854\\tval-auc:0.868105',\n",
       " '[10]\\ttrain-auc:0.939836\\tval-auc:0.918568',\n",
       " '[20]\\ttrain-auc:0.948198\\tval-auc:0.923007',\n",
       " '[30]\\ttrain-auc:0.953902\\tval-auc:0.92232',\n",
       " '[40]\\ttrain-auc:0.958724\\tval-auc:0.921754',\n",
       " '[50]\\ttrain-auc:0.962366\\tval-auc:0.921662',\n",
       " '[60]\\ttrain-auc:0.965508\\tval-auc:0.920834',\n",
       " '[70]\\ttrain-auc:0.968941\\tval-auc:0.921047',\n",
       " '[80]\\ttrain-auc:0.972064\\tval-auc:0.920873',\n",
       " '[90]\\ttrain-auc:0.974815\\tval-auc:0.920179',\n",
       " '[99]\\ttrain-auc:0.977803\\tval-auc:0.920006',\n",
       " '']"
      ]
     },
     "execution_count": 56,
     "metadata": {},
     "output_type": "execute_result"
    }
   ],
   "source": [
    "l = s.split('\\n')\n",
    "l"
   ]
  },
  {
   "cell_type": "code",
   "execution_count": 59,
   "metadata": {
    "colab": {
     "base_uri": "https://localhost:8080/",
     "height": 35
    },
    "id": "4STnlEZc6P7g",
    "outputId": "b6255661-7864-4428-f78c-f09faac22c59"
   },
   "outputs": [
    {
     "data": {
      "application/vnd.google.colaboratory.intrinsic+json": {
       "type": "string"
      },
      "text/plain": [
       "'[0]\\ttrain-auc:0.870854\\tval-auc:0.868105'"
      ]
     },
     "execution_count": 59,
     "metadata": {},
     "output_type": "execute_result"
    }
   ],
   "source": [
    "line = l[0]\n",
    "line"
   ]
  },
  {
   "cell_type": "code",
   "execution_count": 62,
   "metadata": {
    "colab": {
     "base_uri": "https://localhost:8080/"
    },
    "id": "_xwuPNxm7DD4",
    "outputId": "8927c7c3-9ddd-4ce7-8363-c7b3c008b6e4"
   },
   "outputs": [
    {
     "name": "stdout",
     "output_type": "stream",
     "text": [
      "[0] train-auc:0.870854 val-auc:0.868105\n"
     ]
    }
   ],
   "source": [
    "it_line, train_line, val_line = line.split('\\t')\n",
    "print(it_line, train_line, val_line)"
   ]
  },
  {
   "cell_type": "code",
   "execution_count": 64,
   "metadata": {
    "colab": {
     "base_uri": "https://localhost:8080/"
    },
    "id": "XotUejtm7dnf",
    "outputId": "cc58bb63-bf88-452f-b1cb-8dc7067b7cc4"
   },
   "outputs": [
    {
     "data": {
      "text/plain": [
       "0"
      ]
     },
     "execution_count": 64,
     "metadata": {},
     "output_type": "execute_result"
    }
   ],
   "source": [
    "int(it_line.strip('[]'))"
   ]
  },
  {
   "cell_type": "code",
   "execution_count": 67,
   "metadata": {
    "colab": {
     "base_uri": "https://localhost:8080/",
     "height": 35
    },
    "id": "esL3B0TU77NJ",
    "outputId": "c222a825-29af-43c6-e6b1-d12c3f13c785"
   },
   "outputs": [
    {
     "data": {
      "application/vnd.google.colaboratory.intrinsic+json": {
       "type": "string"
      },
      "text/plain": [
       "'0.870854'"
      ]
     },
     "execution_count": 67,
     "metadata": {},
     "output_type": "execute_result"
    }
   ],
   "source": [
    "train_line.split(':')[1]"
   ]
  },
  {
   "cell_type": "code",
   "execution_count": 74,
   "metadata": {
    "colab": {
     "base_uri": "https://localhost:8080/"
    },
    "id": "sBDc9R5Q8Avr",
    "outputId": "77ad923b-8f24-4546-8a89-7609d2e30153"
   },
   "outputs": [
    {
     "name": "stdout",
     "output_type": "stream",
     "text": [
      "(0.923007, 20)\n"
     ]
    }
   ],
   "source": [
    "tree, train_acc, val_acc = parse_xgb_output(output)\n",
    "print(max(zip(val_acc, tree)))"
   ]
  },
  {
   "cell_type": "code",
   "execution_count": null,
   "metadata": {
    "id": "_nCkjbW48Rnp"
   },
   "outputs": [],
   "source": []
  }
 ],
 "metadata": {
  "colab": {
   "name": "Untitled1.ipynb",
   "provenance": []
  },
  "kernelspec": {
   "display_name": "Python 3 (ipykernel)",
   "language": "python",
   "name": "python3"
  },
  "language_info": {
   "codemirror_mode": {
    "name": "ipython",
    "version": 3
   },
   "file_extension": ".py",
   "mimetype": "text/x-python",
   "name": "python",
   "nbconvert_exporter": "python",
   "pygments_lexer": "ipython3",
   "version": "3.9.6"
  }
 },
 "nbformat": 4,
 "nbformat_minor": 1
}
