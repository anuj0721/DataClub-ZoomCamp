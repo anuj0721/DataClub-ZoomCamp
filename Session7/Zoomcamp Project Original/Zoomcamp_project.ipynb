{
 "cells": [
  {
   "cell_type": "code",
   "execution_count": 1,
   "metadata": {
    "id": "gxOF1bjqTxmt"
   },
   "outputs": [],
   "source": [
    "import pandas as pd\n",
    "import numpy as np\n",
    "from sklearn.model_selection import train_test_split, GridSearchCV\n",
    "from sklearn.feature_extraction import DictVectorizer\n",
    "from sklearn.linear_model import LogisticRegression\n",
    "from sklearn.metrics import accuracy_score\n",
    "from sklearn.tree import DecisionTreeClassifier, export_text\n",
    "from sklearn.ensemble import RandomForestClassifier\n",
    "from sklearn.metrics import roc_auc_score \n",
    "import xgboost as xgb\n",
    "import pickle as pkl\n",
    "import matplotlib.pyplot as plt\n",
    "%matplotlib inline"
   ]
  },
  {
   "cell_type": "code",
   "execution_count": 2,
   "metadata": {
    "id": "Twh_W88gT8yR"
   },
   "outputs": [],
   "source": [
    "df_train = pd.read_csv('new_train.csv')"
   ]
  },
  {
   "cell_type": "code",
   "execution_count": 3,
   "metadata": {},
   "outputs": [
    {
     "data": {
      "text/plain": [
       "age            0\n",
       "job            0\n",
       "marital        0\n",
       "education      0\n",
       "default        0\n",
       "housing        0\n",
       "loan           0\n",
       "contact        0\n",
       "month          0\n",
       "day_of_week    0\n",
       "duration       0\n",
       "campaign       0\n",
       "pdays          0\n",
       "previous       0\n",
       "poutcome       0\n",
       "y              0\n",
       "dtype: int64"
      ]
     },
     "execution_count": 3,
     "metadata": {},
     "output_type": "execute_result"
    }
   ],
   "source": [
    "df_train.isnull().sum()"
   ]
  },
  {
   "cell_type": "code",
   "execution_count": 4,
   "metadata": {
    "colab": {
     "base_uri": "https://localhost:8080/",
     "height": 203
    },
    "id": "Ka-eF3mQUUtS",
    "outputId": "e977c0bf-16c8-444b-fa7c-111d8fbb80a5"
   },
   "outputs": [
    {
     "data": {
      "text/html": [
       "<div>\n",
       "<style scoped>\n",
       "    .dataframe tbody tr th:only-of-type {\n",
       "        vertical-align: middle;\n",
       "    }\n",
       "\n",
       "    .dataframe tbody tr th {\n",
       "        vertical-align: top;\n",
       "    }\n",
       "\n",
       "    .dataframe thead th {\n",
       "        text-align: right;\n",
       "    }\n",
       "</style>\n",
       "<table border=\"1\" class=\"dataframe\">\n",
       "  <thead>\n",
       "    <tr style=\"text-align: right;\">\n",
       "      <th></th>\n",
       "      <th>age</th>\n",
       "      <th>job</th>\n",
       "      <th>marital</th>\n",
       "      <th>education</th>\n",
       "      <th>default</th>\n",
       "      <th>housing</th>\n",
       "      <th>loan</th>\n",
       "      <th>contact</th>\n",
       "      <th>month</th>\n",
       "      <th>day_of_week</th>\n",
       "      <th>duration</th>\n",
       "      <th>campaign</th>\n",
       "      <th>pdays</th>\n",
       "      <th>previous</th>\n",
       "      <th>poutcome</th>\n",
       "      <th>y</th>\n",
       "    </tr>\n",
       "  </thead>\n",
       "  <tbody>\n",
       "    <tr>\n",
       "      <th>0</th>\n",
       "      <td>49</td>\n",
       "      <td>blue-collar</td>\n",
       "      <td>married</td>\n",
       "      <td>basic.9y</td>\n",
       "      <td>unknown</td>\n",
       "      <td>no</td>\n",
       "      <td>no</td>\n",
       "      <td>cellular</td>\n",
       "      <td>nov</td>\n",
       "      <td>wed</td>\n",
       "      <td>227</td>\n",
       "      <td>4</td>\n",
       "      <td>999</td>\n",
       "      <td>0</td>\n",
       "      <td>nonexistent</td>\n",
       "      <td>no</td>\n",
       "    </tr>\n",
       "    <tr>\n",
       "      <th>1</th>\n",
       "      <td>37</td>\n",
       "      <td>entrepreneur</td>\n",
       "      <td>married</td>\n",
       "      <td>university.degree</td>\n",
       "      <td>no</td>\n",
       "      <td>no</td>\n",
       "      <td>no</td>\n",
       "      <td>telephone</td>\n",
       "      <td>nov</td>\n",
       "      <td>wed</td>\n",
       "      <td>202</td>\n",
       "      <td>2</td>\n",
       "      <td>999</td>\n",
       "      <td>1</td>\n",
       "      <td>failure</td>\n",
       "      <td>no</td>\n",
       "    </tr>\n",
       "    <tr>\n",
       "      <th>2</th>\n",
       "      <td>78</td>\n",
       "      <td>retired</td>\n",
       "      <td>married</td>\n",
       "      <td>basic.4y</td>\n",
       "      <td>no</td>\n",
       "      <td>no</td>\n",
       "      <td>no</td>\n",
       "      <td>cellular</td>\n",
       "      <td>jul</td>\n",
       "      <td>mon</td>\n",
       "      <td>1148</td>\n",
       "      <td>1</td>\n",
       "      <td>999</td>\n",
       "      <td>0</td>\n",
       "      <td>nonexistent</td>\n",
       "      <td>yes</td>\n",
       "    </tr>\n",
       "    <tr>\n",
       "      <th>3</th>\n",
       "      <td>36</td>\n",
       "      <td>admin.</td>\n",
       "      <td>married</td>\n",
       "      <td>university.degree</td>\n",
       "      <td>no</td>\n",
       "      <td>yes</td>\n",
       "      <td>no</td>\n",
       "      <td>telephone</td>\n",
       "      <td>may</td>\n",
       "      <td>mon</td>\n",
       "      <td>120</td>\n",
       "      <td>2</td>\n",
       "      <td>999</td>\n",
       "      <td>0</td>\n",
       "      <td>nonexistent</td>\n",
       "      <td>no</td>\n",
       "    </tr>\n",
       "    <tr>\n",
       "      <th>4</th>\n",
       "      <td>59</td>\n",
       "      <td>retired</td>\n",
       "      <td>divorced</td>\n",
       "      <td>university.degree</td>\n",
       "      <td>no</td>\n",
       "      <td>no</td>\n",
       "      <td>no</td>\n",
       "      <td>cellular</td>\n",
       "      <td>jun</td>\n",
       "      <td>tue</td>\n",
       "      <td>368</td>\n",
       "      <td>2</td>\n",
       "      <td>999</td>\n",
       "      <td>0</td>\n",
       "      <td>nonexistent</td>\n",
       "      <td>no</td>\n",
       "    </tr>\n",
       "  </tbody>\n",
       "</table>\n",
       "</div>"
      ],
      "text/plain": [
       "   age           job   marital          education  default housing loan  \\\n",
       "0   49   blue-collar   married           basic.9y  unknown      no   no   \n",
       "1   37  entrepreneur   married  university.degree       no      no   no   \n",
       "2   78       retired   married           basic.4y       no      no   no   \n",
       "3   36        admin.   married  university.degree       no     yes   no   \n",
       "4   59       retired  divorced  university.degree       no      no   no   \n",
       "\n",
       "     contact month day_of_week  duration  campaign  pdays  previous  \\\n",
       "0   cellular   nov         wed       227         4    999         0   \n",
       "1  telephone   nov         wed       202         2    999         1   \n",
       "2   cellular   jul         mon      1148         1    999         0   \n",
       "3  telephone   may         mon       120         2    999         0   \n",
       "4   cellular   jun         tue       368         2    999         0   \n",
       "\n",
       "      poutcome    y  \n",
       "0  nonexistent   no  \n",
       "1      failure   no  \n",
       "2  nonexistent  yes  \n",
       "3  nonexistent   no  \n",
       "4  nonexistent   no  "
      ]
     },
     "execution_count": 4,
     "metadata": {},
     "output_type": "execute_result"
    }
   ],
   "source": [
    "df_train.head()"
   ]
  },
  {
   "cell_type": "code",
   "execution_count": 5,
   "metadata": {
    "colab": {
     "base_uri": "https://localhost:8080/"
    },
    "id": "n3PzNcKWweZM",
    "outputId": "c9a12a94-121a-4f8a-d35f-567aba6b9afe"
   },
   "outputs": [
    {
     "data": {
      "text/plain": [
       "0    0\n",
       "1    0\n",
       "2    1\n",
       "3    0\n",
       "4    0\n",
       "Name: y, dtype: int64"
      ]
     },
     "execution_count": 5,
     "metadata": {},
     "output_type": "execute_result"
    }
   ],
   "source": [
    "df_train['y'] = df_train['y'].map({'yes': 1, 'no': 0})\n",
    "df_train.y.head()"
   ]
  },
  {
   "cell_type": "code",
   "execution_count": 6,
   "metadata": {
    "id": "pPgCQICUdoEV"
   },
   "outputs": [],
   "source": [
    "df_train.drop('pdays', axis = 1, inplace = True)\n",
    "df_train.drop('previous', axis = 1, inplace = True)"
   ]
  },
  {
   "cell_type": "code",
   "execution_count": 7,
   "metadata": {
    "id": "Ki7VheNmdBMo"
   },
   "outputs": [],
   "source": [
    "y = df_train.y\n",
    "df_train.drop('y', axis = 1, inplace = True)"
   ]
  },
  {
   "cell_type": "code",
   "execution_count": 8,
   "metadata": {
    "colab": {
     "base_uri": "https://localhost:8080/"
    },
    "id": "qU4kmsVqcaMo",
    "outputId": "61926e5a-082a-412d-aeb9-05f0579ec8d9"
   },
   "outputs": [],
   "source": [
    "df_train, df_val, y_train, y_val = train_test_split(df_train, y, test_size = 0.2)"
   ]
  },
  {
   "cell_type": "code",
   "execution_count": 9,
   "metadata": {
    "id": "PRHedYi7XZJd"
   },
   "outputs": [],
   "source": [
    "dv = DictVectorizer(sparse=False)\n",
    "train_dict = df_train.to_dict(orient='records')\n",
    "X_train = dv.fit_transform(train_dict)\n",
    "\n",
    "val_dict = df_val.to_dict(orient='records')\n",
    "X_val = dv.transform(val_dict)"
   ]
  },
  {
   "cell_type": "code",
   "execution_count": 10,
   "metadata": {
    "colab": {
     "base_uri": "https://localhost:8080/"
    },
    "id": "OEGbgqgxcyJq",
    "outputId": "5a167e02-41a7-4496-9d36-493895d82a1e"
   },
   "outputs": [
    {
     "data": {
      "text/plain": [
       "((26360, 56), (6590, 56), (26360,), (6590,))"
      ]
     },
     "execution_count": 10,
     "metadata": {},
     "output_type": "execute_result"
    }
   ],
   "source": [
    "X_train.shape, X_val.shape, y_train.shape, y_val.shape"
   ]
  },
  {
   "cell_type": "markdown",
   "metadata": {
    "id": "z92ZtUMHfV2m"
   },
   "source": [
    "# Logistic Regression"
   ]
  },
  {
   "cell_type": "code",
   "execution_count": 11,
   "metadata": {
    "colab": {
     "base_uri": "https://localhost:8080/"
    },
    "id": "uuHLh-2DfZp8",
    "outputId": "ab07e7a1-b54f-423a-ef12-04fbfd4f0bef"
   },
   "outputs": [
    {
     "name": "stderr",
     "output_type": "stream",
     "text": [
      "c:\\users\\asus\\appdata\\local\\programs\\python\\python39\\lib\\site-packages\\sklearn\\linear_model\\_logistic.py:763: ConvergenceWarning: lbfgs failed to converge (status=1):\n",
      "STOP: TOTAL NO. of ITERATIONS REACHED LIMIT.\n",
      "\n",
      "Increase the number of iterations (max_iter) or scale the data as shown in:\n",
      "    https://scikit-learn.org/stable/modules/preprocessing.html\n",
      "Please also refer to the documentation for alternative solver options:\n",
      "    https://scikit-learn.org/stable/modules/linear_model.html#logistic-regression\n",
      "  n_iter_i = _check_optimize_result(\n"
     ]
    },
    {
     "data": {
      "text/plain": [
       "LogisticRegression()"
      ]
     },
     "execution_count": 11,
     "metadata": {},
     "output_type": "execute_result"
    }
   ],
   "source": [
    "lrclf = LogisticRegression()\n",
    "lrclf.fit(X_train, y_train)"
   ]
  },
  {
   "cell_type": "code",
   "execution_count": 12,
   "metadata": {
    "colab": {
     "base_uri": "https://localhost:8080/"
    },
    "id": "8Wy6IAMUgC0r",
    "outputId": "fe55b4fa-f2ee-477f-c810-66cf35bb5fd3"
   },
   "outputs": [
    {
     "data": {
      "text/plain": [
       "array([0, 0, 0, ..., 0, 0, 0], dtype=int64)"
      ]
     },
     "execution_count": 12,
     "metadata": {},
     "output_type": "execute_result"
    }
   ],
   "source": [
    "lr_predicted = lrclf.predict(X_val)\n",
    "lr_predicted"
   ]
  },
  {
   "cell_type": "code",
   "execution_count": 13,
   "metadata": {
    "colab": {
     "base_uri": "https://localhost:8080/"
    },
    "id": "iTDrTorsgJTl",
    "outputId": "9ad212ed-196b-49c1-966f-3755523fdce9"
   },
   "outputs": [
    {
     "data": {
      "text/plain": [
       "0.8993930197268589"
      ]
     },
     "execution_count": 13,
     "metadata": {},
     "output_type": "execute_result"
    }
   ],
   "source": [
    "lr_score = accuracy_score(lr_predicted, y_val)\n",
    "lr_score"
   ]
  },
  {
   "cell_type": "code",
   "execution_count": 14,
   "metadata": {},
   "outputs": [],
   "source": [
    "param_grid = {\n",
    "              'penalty' : ['l1', 'l2', 'elasticnet', 'none'],\n",
    "              'C' : np.logspace(0, 5, 10),\n",
    "              'solver' : ['liblinear', 'lbfgs', 'newton-cg']\n",
    "              }"
   ]
  },
  {
   "cell_type": "code",
   "execution_count": 15,
   "metadata": {},
   "outputs": [],
   "source": [
    "grid_search = GridSearchCV(LogisticRegression(random_state=11), param_grid=param_grid, cv=10, verbose=True, n_jobs=-1)"
   ]
  },
  {
   "cell_type": "code",
   "execution_count": 16,
   "metadata": {},
   "outputs": [
    {
     "name": "stdout",
     "output_type": "stream",
     "text": [
      "Fitting 10 folds for each of 120 candidates, totalling 1200 fits\n"
     ]
    },
    {
     "name": "stderr",
     "output_type": "stream",
     "text": [
      "c:\\users\\asus\\appdata\\local\\programs\\python\\python39\\lib\\site-packages\\sklearn\\model_selection\\_search.py:922: UserWarning: One or more of the test scores are non-finite: [0.90716995        nan        nan 0.9069044  0.90599393 0.90694234\n",
      "        nan        nan        nan        nan 0.90618361 0.90709408\n",
      " 0.90713202        nan        nan 0.9069044  0.90599393 0.90705615\n",
      "        nan        nan        nan        nan 0.90618361 0.90709408\n",
      " 0.90705615        nan        nan 0.90705615 0.90591806 0.90709408\n",
      "        nan        nan        nan        nan 0.90618361 0.90709408\n",
      " 0.90709408        nan        nan 0.90705615 0.90610774 0.90709408\n",
      "        nan        nan        nan        nan 0.90618361 0.90709408\n",
      " 0.90709408        nan        nan 0.90713202 0.90595599 0.90709408\n",
      "        nan        nan        nan        nan 0.90618361 0.90709408\n",
      " 0.90713202        nan        nan 0.90705615 0.90591806 0.90709408\n",
      "        nan        nan        nan        nan 0.90618361 0.90709408\n",
      " 0.90713202        nan        nan 0.90720789 0.90599393 0.90709408\n",
      "        nan        nan        nan        nan 0.90618361 0.90709408\n",
      " 0.90713202        nan        nan 0.90709408 0.90591806 0.90709408\n",
      "        nan        nan        nan        nan 0.90618361 0.90709408\n",
      " 0.90713202        nan        nan 0.90735964 0.90618361 0.90709408\n",
      "        nan        nan        nan        nan 0.90618361 0.90709408\n",
      " 0.90713202        nan        nan 0.90716995 0.90618361 0.90709408\n",
      "        nan        nan        nan        nan 0.90618361 0.90709408]\n",
      "  warnings.warn(\n"
     ]
    },
    {
     "data": {
      "text/plain": [
       "GridSearchCV(cv=10, estimator=LogisticRegression(random_state=11), n_jobs=-1,\n",
       "             param_grid={'C': array([1.00000000e+00, 3.59381366e+00, 1.29154967e+01, 4.64158883e+01,\n",
       "       1.66810054e+02, 5.99484250e+02, 2.15443469e+03, 7.74263683e+03,\n",
       "       2.78255940e+04, 1.00000000e+05]),\n",
       "                         'penalty': ['l1', 'l2', 'elasticnet', 'none'],\n",
       "                         'solver': ['liblinear', 'lbfgs', 'newton-cg']},\n",
       "             verbose=True)"
      ]
     },
     "execution_count": 16,
     "metadata": {},
     "output_type": "execute_result"
    }
   ],
   "source": [
    "grid_search.fit(X_train, y_train)"
   ]
  },
  {
   "cell_type": "code",
   "execution_count": 17,
   "metadata": {},
   "outputs": [
    {
     "data": {
      "text/plain": [
       "LogisticRegression(C=27825.59402207126, random_state=11, solver='liblinear')"
      ]
     },
     "execution_count": 17,
     "metadata": {},
     "output_type": "execute_result"
    }
   ],
   "source": [
    "final_model = grid_search.best_estimator_\n",
    "final_model"
   ]
  },
  {
   "cell_type": "code",
   "execution_count": 18,
   "metadata": {},
   "outputs": [
    {
     "data": {
      "text/plain": [
       "0.8993930197268589"
      ]
     },
     "execution_count": 18,
     "metadata": {},
     "output_type": "execute_result"
    }
   ],
   "source": [
    "y_pred = final_model.predict(X_val)\n",
    "accuracy_score(y_val, y_pred)"
   ]
  },
  {
   "cell_type": "markdown",
   "metadata": {
    "id": "BhQ04f6TkDJJ"
   },
   "source": [
    "# Decision Tree"
   ]
  },
  {
   "cell_type": "code",
   "execution_count": 19,
   "metadata": {
    "colab": {
     "base_uri": "https://localhost:8080/"
    },
    "id": "scMSMdJikIVB",
    "outputId": "a5228d1d-e3e4-42c9-bcea-1d0030c957ca"
   },
   "outputs": [
    {
     "data": {
      "text/plain": [
       "DecisionTreeClassifier()"
      ]
     },
     "execution_count": 19,
     "metadata": {},
     "output_type": "execute_result"
    }
   ],
   "source": [
    "dt = DecisionTreeClassifier()\n",
    "dt.fit(X_train, y_train)"
   ]
  },
  {
   "cell_type": "code",
   "execution_count": 20,
   "metadata": {
    "colab": {
     "base_uri": "https://localhost:8080/"
    },
    "id": "3Y1xNSX_nRTs",
    "outputId": "1f8fdc61-2d4e-4dcb-d2fc-11184a696b9a"
   },
   "outputs": [
    {
     "data": {
      "text/plain": [
       "array([0, 0, 1, ..., 1, 0, 0], dtype=int64)"
      ]
     },
     "execution_count": 20,
     "metadata": {},
     "output_type": "execute_result"
    }
   ],
   "source": [
    "dt_predicted = dt.predict(X_val)\n",
    "dt_predicted"
   ]
  },
  {
   "cell_type": "code",
   "execution_count": 21,
   "metadata": {},
   "outputs": [
    {
     "data": {
      "text/plain": [
       "0.8792109256449165"
      ]
     },
     "execution_count": 21,
     "metadata": {},
     "output_type": "execute_result"
    }
   ],
   "source": [
    "dt_score = accuracy_score(dt_predicted, y_val)\n",
    "dt_score"
   ]
  },
  {
   "cell_type": "code",
   "execution_count": 22,
   "metadata": {},
   "outputs": [],
   "source": [
    "param_grid = {\n",
    "              'criterion' :['gini', 'entropy'],\n",
    "              'splitter': ['best', 'random'],\n",
    "              'max_depth' : [4, 5, 6, 7, 8, 9],\n",
    "              'min_samples_leaf': [1, 5, 10, 15, 20, 50],\n",
    "              'max_features': ['auto', 'sqrt', 'log2'],\n",
    "              'ccp_alpha': [0.1, .01, .001],\n",
    "             }"
   ]
  },
  {
   "cell_type": "code",
   "execution_count": 23,
   "metadata": {},
   "outputs": [],
   "source": [
    "grid_search = GridSearchCV(DecisionTreeClassifier(random_state=11), param_grid=param_grid, verbose=True, n_jobs=-1)"
   ]
  },
  {
   "cell_type": "code",
   "execution_count": 24,
   "metadata": {},
   "outputs": [
    {
     "name": "stdout",
     "output_type": "stream",
     "text": [
      "Fitting 5 folds for each of 1296 candidates, totalling 6480 fits\n"
     ]
    },
    {
     "data": {
      "text/plain": [
       "GridSearchCV(estimator=DecisionTreeClassifier(random_state=11), n_jobs=-1,\n",
       "             param_grid={'ccp_alpha': [0.1, 0.01, 0.001],\n",
       "                         'criterion': ['gini', 'entropy'],\n",
       "                         'max_depth': [4, 5, 6, 7, 8, 9],\n",
       "                         'max_features': ['auto', 'sqrt', 'log2'],\n",
       "                         'min_samples_leaf': [1, 5, 10, 15, 20, 50],\n",
       "                         'splitter': ['best', 'random']},\n",
       "             verbose=True)"
      ]
     },
     "execution_count": 24,
     "metadata": {},
     "output_type": "execute_result"
    }
   ],
   "source": [
    "grid_search.fit(X_train, y_train)"
   ]
  },
  {
   "cell_type": "code",
   "execution_count": 25,
   "metadata": {},
   "outputs": [
    {
     "data": {
      "text/plain": [
       "DecisionTreeClassifier(ccp_alpha=0.001, criterion='entropy', max_depth=7,\n",
       "                       max_features='auto', min_samples_leaf=10,\n",
       "                       random_state=11)"
      ]
     },
     "execution_count": 25,
     "metadata": {},
     "output_type": "execute_result"
    }
   ],
   "source": [
    "final_model = grid_search.best_estimator_\n",
    "final_model"
   ]
  },
  {
   "cell_type": "code",
   "execution_count": 26,
   "metadata": {},
   "outputs": [
    {
     "data": {
      "text/plain": [
       "0.8933232169954477"
      ]
     },
     "execution_count": 26,
     "metadata": {},
     "output_type": "execute_result"
    }
   ],
   "source": [
    "y_pred = final_model.predict(X_val)\n",
    "accuracy_score(y_pred, y_val)"
   ]
  },
  {
   "cell_type": "markdown",
   "metadata": {
    "id": "cCfGbAhZn9Po"
   },
   "source": [
    "# Random Forest"
   ]
  },
  {
   "cell_type": "code",
   "execution_count": 27,
   "metadata": {},
   "outputs": [
    {
     "data": {
      "text/plain": [
       "0.9004552352048558"
      ]
     },
     "execution_count": 27,
     "metadata": {},
     "output_type": "execute_result"
    }
   ],
   "source": [
    "rf = RandomForestClassifier()\n",
    "rf.fit(X_train, y_train)\n",
    "pred = rf.predict(X_val)\n",
    "score = accuracy_score(pred, y_val)\n",
    "score"
   ]
  },
  {
   "cell_type": "code",
   "execution_count": 59,
   "metadata": {
    "id": "31oHzLBHny6Y"
   },
   "outputs": [],
   "source": [
    "max_depth = [10, 15, 20, 25]\n",
    "best_score = 0\n",
    "rf_scores = {}\n",
    "for depth in max_depth:\n",
    "    score = []\n",
    "    for n_estimator in list(np.arange(10, 201, 5)):\n",
    "        rf = RandomForestClassifier(n_estimators=n_estimator, n_jobs = -1, max_depth = depth)\n",
    "        rf.fit(X_train, y_train)\n",
    "        pred = rf.predict(X_val)\n",
    "        score.append((n_estimator, accuracy_score(pred, y_val)))\n",
    "    rf_scores[depth] = score"
   ]
  },
  {
   "cell_type": "code",
   "execution_count": 60,
   "metadata": {
    "colab": {
     "base_uri": "https://localhost:8080/",
     "height": 265
    },
    "id": "vYPQW9O0yjga",
    "outputId": "e79163d1-5d59-4a31-aa72-564f40b15a41"
   },
   "outputs": [
    {
     "data": {
      "image/png": "[encoded data removed]",
      "text/plain": [
       "<Figure size 432x288 with 1 Axes>"
      ]
     },
     "metadata": {
      "needs_background": "light"
     },
     "output_type": "display_data"
    }
   ],
   "source": [
    "for depth, scores in rf_scores.items():\n",
    "    plt.plot(*zip(*scores), label='depth = %d' % depth)\n",
    "    plt.xlim(0, 200)\n",
    "plt.grid()\n",
    "plt.legend()\n",
    "plt.show()"
   ]
  },
  {
   "cell_type": "markdown",
   "metadata": {
    "id": "9hrqe1dwFyTA"
   },
   "source": [
    "depth = 25 and n_estimators = 100 is giving the best result "
   ]
  },
  {
   "cell_type": "code",
   "execution_count": 61,
   "metadata": {},
   "outputs": [
    {
     "data": {
      "text/plain": [
       "0.9039453717754173"
      ]
     },
     "execution_count": 61,
     "metadata": {},
     "output_type": "execute_result"
    }
   ],
   "source": [
    "rf = RandomForestClassifier(n_estimators=100, n_jobs = -1, max_depth = 25)\n",
    "rf.fit(X_train, y_train)\n",
    "pred = rf.predict(X_val)\n",
    "score = accuracy_score(pred, y_val)\n",
    "score"
   ]
  },
  {
   "cell_type": "markdown",
   "metadata": {
    "id": "1vDEeKriurat"
   },
   "source": [
    "# XGBoost"
   ]
  },
  {
   "cell_type": "code",
   "execution_count": 62,
   "metadata": {
    "id": "HfqcZ7s-utnW"
   },
   "outputs": [],
   "source": [
    "features = dv.get_feature_names()\n",
    "dtrain = xgb.DMatrix(X_train, label=y_train, feature_names=features)\n",
    "dval = xgb.DMatrix(X_val, label=y_val, feature_names=features)\n",
    "\n",
    "watchlist = [(dtrain, 'train'), (dval, 'val')]"
   ]
  },
  {
   "cell_type": "code",
   "execution_count": 63,
   "metadata": {
    "id": "49JC6qtgxZcv"
   },
   "outputs": [],
   "source": [
    "xgb_params = {\n",
    "    'eta': 0.3, \n",
    "    'max_depth': 6,\n",
    "    'min_child_weight': 1,\n",
    "\n",
    "    'objective': 'binary:logistic',\n",
    "    'eval_metric': 'auc',\n",
    "    'nthread': 8,\n",
    "\n",
    "    'seed': 1,\n",
    "    'verbosity': 1,\n",
    "}"
   ]
  },
  {
   "cell_type": "code",
   "execution_count": 64,
   "metadata": {
    "id": "oeb8aajP0qqe"
   },
   "outputs": [],
   "source": [
    "%%capture output\n",
    "# capture instruction that saves the result to output \n",
    "model = xgb.train(xgb_params, dtrain,\n",
    "                  num_boost_round=100,\n",
    "                  evals=watchlist, verbose_eval=10)"
   ]
  },
  {
   "cell_type": "code",
   "execution_count": 65,
   "metadata": {
    "id": "0WDltPqS0yWv"
   },
   "outputs": [],
   "source": [
    "def parse_xgb_output(output):\n",
    "    tree = []\n",
    "    p_train = []\n",
    "    p_val = []\n",
    "\n",
    "    for line in output.stdout.strip().split('\\n'):\n",
    "        it_line, train_line, val_line = line.split('\\t')\n",
    "\n",
    "        it = int(it_line.strip('[]'))\n",
    "        train = float(train_line.split(':')[1])\n",
    "        val = float(val_line.split(':')[1])\n",
    "\n",
    "        tree.append(it)\n",
    "        p_train.append(train)\n",
    "        p_val.append(val)\n",
    "\n",
    "    return tree, p_train, p_val\n",
    "\n",
    "tree, p_train, p_val = parse_xgb_output(output)"
   ]
  },
  {
   "cell_type": "code",
   "execution_count": 66,
   "metadata": {
    "colab": {
     "base_uri": "https://localhost:8080/"
    },
    "id": "wdEYo6wW03tX",
    "outputId": "6c034b93-78ac-402f-fac2-41f2c48671c0"
   },
   "outputs": [
    {
     "name": "stdout",
     "output_type": "stream",
     "text": [
      "Best performance  (0.9243, 40)\n"
     ]
    }
   ],
   "source": [
    "print('Best performance ', max(zip(p_val, tree)))"
   ]
  },
  {
   "cell_type": "markdown",
   "metadata": {
    "id": "cOTzE9wMJDvh"
   },
   "source": [
    "Tuning 'eta'"
   ]
  },
  {
   "cell_type": "code",
   "execution_count": 67,
   "metadata": {
    "id": "J1XledhT0_4K"
   },
   "outputs": [],
   "source": [
    "%%capture output_010\n",
    "# capture instruction that saves the result to output \n",
    "xgb_params['eta'] = 0.1\n",
    "model = xgb.train(xgb_params, dtrain,\n",
    "                  num_boost_round=100,\n",
    "                  evals=watchlist, verbose_eval=10)"
   ]
  },
  {
   "cell_type": "code",
   "execution_count": 68,
   "metadata": {
    "colab": {
     "base_uri": "https://localhost:8080/"
    },
    "id": "x1KW944B1Dkw",
    "outputId": "76da6d57-37ae-48fa-977a-73d2ba398d94"
   },
   "outputs": [
    {
     "name": "stdout",
     "output_type": "stream",
     "text": [
      "Eta=0.1 : Best performance  (0.92493, 99)\n"
     ]
    }
   ],
   "source": [
    "tree, _, p_val = parse_xgb_output(output_010)\n",
    "print(f'Eta={xgb_params[\"eta\"]} : Best performance ', max(zip(p_val, tree)))"
   ]
  },
  {
   "cell_type": "code",
   "execution_count": 69,
   "metadata": {
    "id": "7oCyBZt11HTX"
   },
   "outputs": [],
   "source": [
    "%%capture output_001\n",
    "# capture instruction that saves the result to output \n",
    "xgb_params['eta'] = 0.01\n",
    "model = xgb.train(xgb_params, dtrain,\n",
    "                  num_boost_round=100,\n",
    "                  evals=watchlist, verbose_eval=10)"
   ]
  },
  {
   "cell_type": "code",
   "execution_count": 70,
   "metadata": {
    "colab": {
     "base_uri": "https://localhost:8080/"
    },
    "id": "EPpZKZwW1MFG",
    "outputId": "6a1a1f78-204d-4230-baef-efd0cd67cfba"
   },
   "outputs": [
    {
     "name": "stdout",
     "output_type": "stream",
     "text": [
      "Eta=0.01 : Best performance  (0.90721, 99)\n"
     ]
    }
   ],
   "source": [
    "tree, _, p_val = parse_xgb_output(output_001)\n",
    "print(f'Eta={xgb_params[\"eta\"]} : Best performance ', max(zip(p_val, tree)))"
   ]
  },
  {
   "cell_type": "markdown",
   "metadata": {
    "id": "4_bcqQstJNsx"
   },
   "source": [
    "Eta = 0.1 gives the best result"
   ]
  },
  {
   "cell_type": "markdown",
   "metadata": {
    "id": "oLH7zAdfJd97"
   },
   "source": [
    "Tuning 'max_depth'"
   ]
  },
  {
   "cell_type": "code",
   "execution_count": 71,
   "metadata": {
    "id": "smewgJvfJyj4"
   },
   "outputs": [],
   "source": [
    "%%capture output_011\n",
    "# capture instruction that saves the result to output \n",
    "xgb_params['eta'] = 0.1\n",
    "xgb_params['max_depth'] = 1\n",
    "model = xgb.train(xgb_params, dtrain,\n",
    "                  num_boost_round=100,\n",
    "                  evals=watchlist, verbose_eval=10)"
   ]
  },
  {
   "cell_type": "code",
   "execution_count": 72,
   "metadata": {
    "colab": {
     "base_uri": "https://localhost:8080/"
    },
    "id": "3IgqkpSOKSdY",
    "outputId": "6cd34bc5-59a6-4d91-cc02-3bc09de105ae"
   },
   "outputs": [
    {
     "name": "stdout",
     "output_type": "stream",
     "text": [
      "max_depth=1 : Best performance  (0.90025, 99)\n"
     ]
    }
   ],
   "source": [
    "tree, _, p_val = parse_xgb_output(output_011)\n",
    "print(f'max_depth={xgb_params[\"max_depth\"]} : Best performance ', max(zip(p_val, tree)))"
   ]
  },
  {
   "cell_type": "code",
   "execution_count": 73,
   "metadata": {
    "id": "Br7Viks7KSgl"
   },
   "outputs": [],
   "source": [
    "%%capture output_100\n",
    "# capture instruction that saves the result to output \n",
    "xgb_params['eta'] = 0.1\n",
    "xgb_params['max_depth'] = 2\n",
    "model = xgb.train(xgb_params, dtrain,\n",
    "                  num_boost_round=100,\n",
    "                  evals=watchlist, verbose_eval=10)"
   ]
  },
  {
   "cell_type": "code",
   "execution_count": 74,
   "metadata": {
    "colab": {
     "base_uri": "https://localhost:8080/"
    },
    "id": "mjqnVCN5KSjR",
    "outputId": "ff8cc0e5-ee7c-4e99-a178-a5496438748f"
   },
   "outputs": [
    {
     "name": "stdout",
     "output_type": "stream",
     "text": [
      "max_depth=2 : Best performance  (0.916, 99)\n"
     ]
    }
   ],
   "source": [
    "tree, _, p_val = parse_xgb_output(output_100)\n",
    "print(f'max_depth={xgb_params[\"max_depth\"]} : Best performance ', max(zip(p_val, tree)))"
   ]
  },
  {
   "cell_type": "code",
   "execution_count": 75,
   "metadata": {
    "id": "jLyjjTyfKuzJ"
   },
   "outputs": [],
   "source": [
    "%%capture output_101\n",
    "# capture instruction that saves the result to output \n",
    "xgb_params['eta'] = 0.1\n",
    "xgb_params['max_depth'] = 4\n",
    "model = xgb.train(xgb_params, dtrain,\n",
    "                  num_boost_round=100,\n",
    "                  evals=watchlist, verbose_eval=10)"
   ]
  },
  {
   "cell_type": "code",
   "execution_count": 76,
   "metadata": {
    "colab": {
     "base_uri": "https://localhost:8080/"
    },
    "id": "OUXQNG8hKu2O",
    "outputId": "8462c2e9-e70f-478f-a4f4-f901a7d1a378"
   },
   "outputs": [
    {
     "name": "stdout",
     "output_type": "stream",
     "text": [
      "max_depth=4 : Best performance  (0.9238, 99)\n"
     ]
    }
   ],
   "source": [
    "tree, _, p_val = parse_xgb_output(output_101)\n",
    "print(f'max_depth={xgb_params[\"max_depth\"]} : Best performance ', max(zip(p_val, tree)))"
   ]
  },
  {
   "cell_type": "code",
   "execution_count": 77,
   "metadata": {
    "id": "OBcH4VlDKu_p"
   },
   "outputs": [],
   "source": [
    "%%capture output_110\n",
    "# capture instruction that saves the result to output \n",
    "xgb_params['eta'] = 0.1\n",
    "xgb_params['max_depth'] = 5\n",
    "model = xgb.train(xgb_params, dtrain,\n",
    "                  num_boost_round=100,\n",
    "                  evals=watchlist, verbose_eval=10)"
   ]
  },
  {
   "cell_type": "code",
   "execution_count": 78,
   "metadata": {
    "colab": {
     "base_uri": "https://localhost:8080/"
    },
    "id": "wMrrSk4CKvCI",
    "outputId": "2bc9abcf-93d0-4fc7-b098-acbfda72b297"
   },
   "outputs": [
    {
     "name": "stdout",
     "output_type": "stream",
     "text": [
      "max_depth=5 : Best performance  (0.92497, 99)\n"
     ]
    }
   ],
   "source": [
    "tree, _, p_val = parse_xgb_output(output_110)\n",
    "print(f'max_depth={xgb_params[\"max_depth\"]} : Best performance ', max(zip(p_val, tree)))"
   ]
  },
  {
   "cell_type": "markdown",
   "metadata": {
    "id": "QQvHVGbjLWYy"
   },
   "source": [
    "max_depth = 5 gives the best result"
   ]
  },
  {
   "cell_type": "code",
   "execution_count": 79,
   "metadata": {
    "id": "oKgZNArvLNhN"
   },
   "outputs": [],
   "source": [
    "%%capture output_111\n",
    "# capture instruction that saves the result to output\n",
    "xgb_params['eta'] = 0.1\n",
    "xgb_params['max_depth'] = 5\n",
    "xgb_params['min_child_weight'] = 2\n",
    "model = xgb.train(xgb_params, dtrain,\n",
    "                  num_boost_round=100,\n",
    "                  evals=watchlist, verbose_eval=10)"
   ]
  },
  {
   "cell_type": "code",
   "execution_count": 80,
   "metadata": {
    "colab": {
     "base_uri": "https://localhost:8080/"
    },
    "id": "dLerPlKYLwmD",
    "outputId": "884514eb-51df-4d89-eab7-b43fd05791ce"
   },
   "outputs": [
    {
     "name": "stdout",
     "output_type": "stream",
     "text": [
      "min_child_weight=2 : Best performance  (0.92463, 99)\n"
     ]
    }
   ],
   "source": [
    "tree, _, p_val = parse_xgb_output(output_111)\n",
    "print(f'min_child_weight={xgb_params[\"min_child_weight\"]} : Best performance ', max(zip(p_val, tree)))"
   ]
  },
  {
   "cell_type": "code",
   "execution_count": 81,
   "metadata": {
    "id": "FLTWMnkfL8zh"
   },
   "outputs": [],
   "source": [
    "%%capture output_1001\n",
    "# capture instruction that saves the result to output\n",
    "xgb_params['eta'] = 0.1\n",
    "xgb_params['max_depth'] = 5\n",
    "xgb_params['min_child_weight'] = 3\n",
    "model = xgb.train(xgb_params, dtrain,\n",
    "                  num_boost_round=100,\n",
    "                  evals=watchlist, verbose_eval=10)"
   ]
  },
  {
   "cell_type": "code",
   "execution_count": 82,
   "metadata": {
    "colab": {
     "base_uri": "https://localhost:8080/"
    },
    "id": "HNF1skHvL82J",
    "outputId": "9aa1a2f4-a9c2-430d-99fd-f6818f816901"
   },
   "outputs": [
    {
     "name": "stdout",
     "output_type": "stream",
     "text": [
      "min_child_weight=3 : Best performance  (0.92563, 99)\n"
     ]
    }
   ],
   "source": [
    "tree, _, p_val = parse_xgb_output(output_1001)\n",
    "print(f'min_child_weight={xgb_params[\"min_child_weight\"]} : Best performance ', max(zip(p_val, tree)))"
   ]
  },
  {
   "cell_type": "markdown",
   "metadata": {
    "id": "OA1nv3nGMNQY"
   },
   "source": [
    "eta = 0.1, max_depth = 5 and min_child_weight = 3 gives the best result"
   ]
  },
  {
   "cell_type": "markdown",
   "metadata": {},
   "source": [
    "# Storing the best as pickle"
   ]
  },
  {
   "cell_type": "code",
   "execution_count": 83,
   "metadata": {
    "id": "TyR8A-JWwYZv"
   },
   "outputs": [],
   "source": [
    "with open('model.pkl', 'wb') as f:\n",
    "    pkl.dump((dv, model), f)"
   ]
  },
  {
   "cell_type": "code",
   "execution_count": 84,
   "metadata": {},
   "outputs": [],
   "source": [
    "with open('model.pkl', 'rb') as f:\n",
    "    dv, model = pkl.load(f)"
   ]
  },
  {
   "cell_type": "code",
   "execution_count": 85,
   "metadata": {},
   "outputs": [],
   "source": [
    "y_pred = model.predict(dval)"
   ]
  },
  {
   "cell_type": "code",
   "execution_count": 86,
   "metadata": {},
   "outputs": [
    {
     "data": {
      "text/plain": [
       "0.9256315792460431"
      ]
     },
     "execution_count": 86,
     "metadata": {},
     "output_type": "execute_result"
    }
   ],
   "source": [
    "roc_auc_score(y_val, y_pred)"
   ]
  },
  {
   "cell_type": "markdown",
   "metadata": {},
   "source": [
    "## Prediction on new data"
   ]
  },
  {
   "cell_type": "code",
   "execution_count": 87,
   "metadata": {},
   "outputs": [],
   "source": [
    "customer = {'age':'49', \n",
    "             'job':'blue-collar', \n",
    "             'marital':'married', \n",
    "             'education':'basic.9y', \n",
    "             'default':'unknown', \n",
    "             'housing':'no', \n",
    "             'load':'no', \n",
    "             'contact':'cellural', \n",
    "             'month':'nov', \n",
    "             'day_of_week':'wed', \n",
    "             'duration':227, \n",
    "             'campaign':4, \n",
    "             'poutcome':'nonexistent'}"
   ]
  },
  {
   "cell_type": "code",
   "execution_count": 88,
   "metadata": {},
   "outputs": [],
   "source": [
    "features = dv.get_feature_names()\n",
    "X = dv.transform([customer])\n",
    "dX = xgb.DMatrix(X, feature_names = features)"
   ]
  },
  {
   "cell_type": "code",
   "execution_count": 89,
   "metadata": {},
   "outputs": [
    {
     "data": {
      "text/plain": [
       "array([0.02833237], dtype=float32)"
      ]
     },
     "execution_count": 89,
     "metadata": {},
     "output_type": "execute_result"
    }
   ],
   "source": [
    "model.predict(dX)"
   ]
  },
  {
   "cell_type": "code",
   "execution_count": null,
   "metadata": {},
   "outputs": [],
   "source": []
  }
 ],
 "metadata": {
  "colab": {
   "name": "Untitled1.ipynb",
   "provenance": []
  },
  "kernelspec": {
   "display_name": "Python 3 (ipykernel)",
   "language": "python",
   "name": "python3"
  },
  "language_info": {
   "codemirror_mode": {
    "name": "ipython",
    "version": 3
   },
   "file_extension": ".py",
   "mimetype": "text/x-python",
   "name": "python",
   "nbconvert_exporter": "python",
   "pygments_lexer": "ipython3",
   "version": "3.9.6"
  }
 },
 "nbformat": 4,
 "nbformat_minor": 1
}
