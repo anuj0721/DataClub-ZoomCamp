{
  "nbformat": 4,
  "nbformat_minor": 0,
  "metadata": {
    "kernelspec": {
      "display_name": "Python 3",
      "language": "python",
      "name": "python3"
    },
    "language_info": {
      "codemirror_mode": {
        "name": "ipython",
        "version": 3
      },
      "file_extension": ".py",
      "mimetype": "text/x-python",
      "name": "python",
      "nbconvert_exporter": "python",
      "pygments_lexer": "ipython3",
      "version": "3.6.9"
    },
    "colab": {
      "name": "homework-4-starter.ipynb",
      "provenance": [],
      "include_colab_link": true
    }
  },
  "cells": [
    {
      "cell_type": "markdown",
      "metadata": {
        "id": "view-in-github",
        "colab_type": "text"
      },
      "source": [
        "<a href=\"https://colab.research.google.com/github/anuj0721/DataClub-ZoomCamp/blob/main/course-zoomcamp/04-evaluation/homework-4-starter.ipynb\" target=\"_parent\"><img src=\"https://colab.research.google.com/assets/colab-badge.svg\" alt=\"Open In Colab\"/></a>"
      ]
    },
    {
      "cell_type": "markdown",
      "metadata": {
        "id": "DTj-EkTks7HN"
      },
      "source": [
        "## Homework 4\n",
        "\n",
        "Use this notebook as a starter"
      ]
    },
    {
      "cell_type": "code",
      "metadata": {
        "id": "L4I_Z5yEs7HP"
      },
      "source": [
        "import pandas as pd\n",
        "import numpy as np\n",
        "from sklearn.metrics import auc\n",
        "from collections import Counter\n",
        "from sklearn.metrics import roc_curve\n",
        "from sklearn.metrics import roc_auc_score\n",
        "from sklearn.metrics import accuracy_score\n",
        "from sklearn.feature_extraction import DictVectorizer\n",
        "from sklearn.linear_model import LogisticRegression\n",
        "from sklearn.linear_model import LogisticRegression\n",
        "from sklearn.model_selection import train_test_split\n",
        "import random\n",
        "from tqdm.auto import tqdm\n",
        "from sklearn.model_selection import KFold\n",
        "import matplotlib.pyplot as plt\n",
        "import seaborn as sns\n",
        "\n",
        "%matplotlib inline"
      ],
      "execution_count": 1,
      "outputs": []
    },
    {
      "cell_type": "markdown",
      "metadata": {
        "id": "j5ohX-G8s7HQ"
      },
      "source": [
        "Data:\n",
        "\n",
        "- https://github.com/gastonstat/CreditScoring\n",
        "- Also available [here](https://raw.githubusercontent.com/alexeygrigorev/mlbookcamp-code/master/chapter-06-trees/CreditScoring.csv)"
      ]
    },
    {
      "cell_type": "code",
      "metadata": {
        "scrolled": true,
        "id": "6TTUXoxzs7HQ",
        "outputId": "7977acd4-0638-47ff-8706-cb49bf9f128a",
        "colab": {
          "base_uri": "https://localhost:8080/"
        }
      },
      "source": [
        "!wget https://raw.githubusercontent.com/alexeygrigorev/mlbookcamp-code/master/chapter-06-trees/CreditScoring.csv"
      ],
      "execution_count": 2,
      "outputs": [
        {
          "output_type": "stream",
          "name": "stdout",
          "text": [
            "--2021-10-01 17:33:49--  https://raw.githubusercontent.com/alexeygrigorev/mlbookcamp-code/master/chapter-06-trees/CreditScoring.csv\n",
            "Resolving raw.githubusercontent.com (raw.githubusercontent.com)... 185.199.108.133, 185.199.109.133, 185.199.110.133, ...\n",
            "Connecting to raw.githubusercontent.com (raw.githubusercontent.com)|185.199.108.133|:443... connected.\n",
            "HTTP request sent, awaiting response... 200 OK\n",
            "Length: 182489 (178K) [text/plain]\n",
            "Saving to: ‘CreditScoring.csv’\n",
            "\n",
            "\rCreditScoring.csv     0%[                    ]       0  --.-KB/s               \rCreditScoring.csv   100%[===================>] 178.21K  --.-KB/s    in 0.004s  \n",
            "\n",
            "2021-10-01 17:33:49 (49.6 MB/s) - ‘CreditScoring.csv’ saved [182489/182489]\n",
            "\n"
          ]
        }
      ]
    },
    {
      "cell_type": "markdown",
      "metadata": {
        "id": "t93vRiSns7HR"
      },
      "source": [
        "## Preparation \n",
        "\n",
        "We'll talk about this dataset in more details in week 6. But for now, use the following code to get started"
      ]
    },
    {
      "cell_type": "code",
      "metadata": {
        "id": "PTfAuEgBs7HR"
      },
      "source": [
        "df = pd.read_csv('CreditScoring.csv')\n",
        "df.columns = df.columns.str.lower()"
      ],
      "execution_count": 3,
      "outputs": []
    },
    {
      "cell_type": "markdown",
      "metadata": {
        "id": "HKIM2prCs7HS"
      },
      "source": [
        "Some of the features are encoded as numbers. Use the following code to de-code them:"
      ]
    },
    {
      "cell_type": "code",
      "metadata": {
        "id": "IVVN8_Efs7HS"
      },
      "source": [
        "status_values = {\n",
        "    1: 'ok',\n",
        "    2: 'default',\n",
        "    0: 'unk'\n",
        "}\n",
        "\n",
        "df.status = df.status.map(status_values)\n",
        "\n",
        "\n",
        "home_values = {\n",
        "    1: 'rent',\n",
        "    2: 'owner',\n",
        "    3: 'private',\n",
        "    4: 'ignore',\n",
        "    5: 'parents',\n",
        "    6: 'other',\n",
        "    0: 'unk'\n",
        "}\n",
        "\n",
        "df.home = df.home.map(home_values)\n",
        "\n",
        "marital_values = {\n",
        "    1: 'single',\n",
        "    2: 'married',\n",
        "    3: 'widow',\n",
        "    4: 'separated',\n",
        "    5: 'divorced',\n",
        "    0: 'unk'\n",
        "}\n",
        "\n",
        "df.marital = df.marital.map(marital_values)\n",
        "\n",
        "records_values = {\n",
        "    1: 'no',\n",
        "    2: 'yes',\n",
        "    0: 'unk'\n",
        "}\n",
        "\n",
        "df.records = df.records.map(records_values)\n",
        "\n",
        "job_values = {\n",
        "    1: 'fixed',\n",
        "    2: 'partime',\n",
        "    3: 'freelance',\n",
        "    4: 'others',\n",
        "    0: 'unk'\n",
        "}\n",
        "\n",
        "df.job = df.job.map(job_values)"
      ],
      "execution_count": 4,
      "outputs": []
    },
    {
      "cell_type": "markdown",
      "metadata": {
        "id": "JgGb56m7s7HT"
      },
      "source": [
        "Prepare the numerical variables:"
      ]
    },
    {
      "cell_type": "code",
      "metadata": {
        "id": "XAawb0Urs7HU"
      },
      "source": [
        "for c in ['income', 'assets', 'debt']:\n",
        "    df[c] = df[c].replace(to_replace=99999999, value=0)"
      ],
      "execution_count": 5,
      "outputs": []
    },
    {
      "cell_type": "markdown",
      "metadata": {
        "id": "77e6CJIVs7HU"
      },
      "source": [
        "Remove clients with unknown default status"
      ]
    },
    {
      "cell_type": "code",
      "metadata": {
        "id": "VbaXPugks7HU"
      },
      "source": [
        "df = df[df.status != 'unk'].reset_index(drop=True)"
      ],
      "execution_count": 6,
      "outputs": []
    },
    {
      "cell_type": "markdown",
      "metadata": {
        "id": "45BMh9wLs7HV"
      },
      "source": [
        "Create the target variable"
      ]
    },
    {
      "cell_type": "code",
      "metadata": {
        "id": "FrwIsc7Xs7HV"
      },
      "source": [
        "df['default'] = (df.status == 'default').astype(int)\n",
        "del df['status']"
      ],
      "execution_count": 7,
      "outputs": []
    },
    {
      "cell_type": "markdown",
      "metadata": {
        "id": "ehp0BjVSs7HV"
      },
      "source": [
        "## Your code"
      ]
    },
    {
      "cell_type": "markdown",
      "metadata": {
        "id": "fWsx6o-Es7HV"
      },
      "source": [
        "What are the categorical variables? What are the numerical?"
      ]
    },
    {
      "cell_type": "code",
      "metadata": {
        "id": "lRCl2Il8s7HW"
      },
      "source": [
        "categorical_vairables = ['home', 'marital', 'records', 'job', 'default']\n",
        "numerical_vairables = ['seniority', 'time', 'age', 'expenses', 'income', 'assets', 'debt', 'amount', 'price']"
      ],
      "execution_count": 8,
      "outputs": []
    },
    {
      "cell_type": "markdown",
      "metadata": {
        "id": "8vfPfSWUs7HW"
      },
      "source": [
        "Split the data into 3 parts: train/validation/test with 60%/20%/20% distribution. Use `train_test_split` funciton for that with `random_state=1`"
      ]
    },
    {
      "cell_type": "code",
      "metadata": {
        "id": "VSywQhCws7HW"
      },
      "source": [
        "df_full_train, df_test = train_test_split(df, test_size=0.2, random_state=1)\n",
        "df_train, df_val = train_test_split(df_full_train, test_size=0.25, random_state=1)"
      ],
      "execution_count": 9,
      "outputs": []
    },
    {
      "cell_type": "markdown",
      "metadata": {
        "id": "Ai6TWS63s7HW"
      },
      "source": [
        "## Question 1\n",
        "\n",
        "ROC AUC could also be used to evaluate feature importance of numerical variables. \n",
        "\n",
        "Let's do that\n",
        "\n",
        "* For each numerical variable, use it as score and compute AUC with the \"default\" variable\n",
        "* Use the training dataset for that\n",
        "\n",
        "\n",
        "If your AUC is < 0.5, invert this variable by putting \"-\" in front\n",
        "\n",
        "(e.g. `-df_train['expenses']`)\n",
        "\n",
        "AUC can go below 0.5 if the variable is negatively correlated with the target varialble. You can change the direction of the correlation by negating this variable - then negative correlation becomes positive."
      ]
    },
    {
      "cell_type": "code",
      "metadata": {
        "id": "7Qi0HMFIs7HW",
        "outputId": "ea270f69-48e6-4c2a-d9f0-5a3ab48c2d9c",
        "colab": {
          "base_uri": "https://localhost:8080/"
        }
      },
      "source": [
        "auc_scores = {}\n",
        "for c in numerical_vairables:\n",
        "  if roc_auc_score(df_train.default, df_train[c]) >= 0.5:\n",
        "    auc_scores[c] = roc_auc_score(df_train.default, df_train[c])\n",
        "  else:\n",
        "    auc_scores[c] = roc_auc_score(df_train.default, -df_train[c])\n",
        "\n",
        "auc_scores"
      ],
      "execution_count": 10,
      "outputs": [
        {
          "output_type": "execute_result",
          "data": {
            "text/plain": [
              "{'age': 0.5732933272499939,\n",
              " 'amount': 0.5910773431595518,\n",
              " 'assets': 0.6486042567122802,\n",
              " 'debt': 0.5047829675783548,\n",
              " 'expenses': 0.5009184217217011,\n",
              " 'income': 0.682006666132633,\n",
              " 'price': 0.5043329862114843,\n",
              " 'seniority': 0.7093778624491943,\n",
              " 'time': 0.5608662489595051}"
            ]
          },
          "metadata": {},
          "execution_count": 10
        }
      ]
    },
    {
      "cell_type": "markdown",
      "metadata": {
        "id": "K2Bekjtus7HX"
      },
      "source": [
        "Which numerical variable (among the following 4) has the highest AUC?\n",
        "\n",
        "- seniority\n",
        "- time\n",
        "- income\n",
        "- debt"
      ]
    },
    {
      "cell_type": "markdown",
      "metadata": {
        "id": "CV4m2sY_s7HX"
      },
      "source": [
        "## Training the model\n",
        "\n",
        "From now on, use these columns only:\n",
        "\n",
        "```\n",
        "['seniority', 'income', 'assets', 'records', 'job', 'home']\n",
        "```\n",
        "\n",
        "Apply one-hot-encoding using `DictVectorizer` and train the logistic regression with these parameters:\n",
        "\n",
        "```\n",
        "LogisticRegression(solver='liblinear', C=1.0, max_iter=1000)\n",
        "```"
      ]
    },
    {
      "cell_type": "code",
      "metadata": {
        "id": "DEYZ26ygs7HX"
      },
      "source": [
        "columns = ['seniority', 'income', 'assets', 'records', 'job', 'home']\n",
        "dv = DictVectorizer(sparse = False)\n",
        "train_dict = df_train[columns].to_dict(orient = 'records')\n",
        "X_train = dv.fit_transform(train_dict)\n",
        "\n",
        "val_dict = df_val[columns].to_dict(orient='records')\n",
        "X_val = dv.transform(val_dict)"
      ],
      "execution_count": 11,
      "outputs": []
    },
    {
      "cell_type": "code",
      "metadata": {
        "id": "ffSqsww8ecd0",
        "outputId": "a2d2a74d-9217-4ccc-806d-4f3db16f02f4",
        "colab": {
          "base_uri": "https://localhost:8080/"
        }
      },
      "source": [
        "model = LogisticRegression(solver='liblinear', C=1.0, max_iter=1000)\n",
        "model.fit(X_train, df_train['default'])"
      ],
      "execution_count": 12,
      "outputs": [
        {
          "output_type": "execute_result",
          "data": {
            "text/plain": [
              "LogisticRegression(C=1.0, class_weight=None, dual=False, fit_intercept=True,\n",
              "                   intercept_scaling=1, l1_ratio=None, max_iter=1000,\n",
              "                   multi_class='auto', n_jobs=None, penalty='l2',\n",
              "                   random_state=None, solver='liblinear', tol=0.0001, verbose=0,\n",
              "                   warm_start=False)"
            ]
          },
          "metadata": {},
          "execution_count": 12
        }
      ]
    },
    {
      "cell_type": "markdown",
      "metadata": {
        "id": "ELeqdsGJs7HX"
      },
      "source": [
        "## Question 2\n",
        "\n",
        "What's the AUC of this model on the validation dataset? (round to 3 digits)\n",
        "\n",
        "- 0.512\n",
        "- 0.612\n",
        "- 0.712\n",
        "- 0.812"
      ]
    },
    {
      "cell_type": "code",
      "metadata": {
        "id": "EkAkbwL5fvzi",
        "outputId": "8fb209f2-5014-4ed3-a198-df8e6261df94",
        "colab": {
          "base_uri": "https://localhost:8080/"
        }
      },
      "source": [
        "y_pred_val = model.predict_proba(X_val)\n",
        "roc_auc_score(df_val['default'], y_pred_val[:, 1]).round(3)"
      ],
      "execution_count": 13,
      "outputs": [
        {
          "output_type": "execute_result",
          "data": {
            "text/plain": [
              "0.812"
            ]
          },
          "metadata": {},
          "execution_count": 13
        }
      ]
    },
    {
      "cell_type": "markdown",
      "metadata": {
        "id": "WytW8LtMs7HY"
      },
      "source": [
        "## Question 3\n",
        "\n",
        "Now let's compute precision and recall for our model.\n",
        "\n",
        "* Evaluate the model on all thresholds from 0.0 to 1.0 with step 0.01\n",
        "* For each threshold, compute precision and recall\n",
        "* Plot them"
      ]
    },
    {
      "cell_type": "code",
      "metadata": {
        "id": "ncsvrXTJs7HY",
        "outputId": "c0449e6d-bfa5-4165-9add-8cdb9479bcb1",
        "colab": {
          "base_uri": "https://localhost:8080/"
        }
      },
      "source": [
        "thresholds = np.linspace(0, 1, 101)\n",
        "precisions = []\n",
        "recalls = []\n",
        "y_val = df_val['default']\n",
        "y_pred = y_pred_val[:, 1].round(3)\n",
        "for t in thresholds:\n",
        "  actual_positive = (y_val == 1)\n",
        "  actual_negative = (y_val == 0)\n",
        "\n",
        "  predict_positive = (y_pred >= t)\n",
        "  predict_negative = (y_pred < t)\n",
        "\n",
        "  tp = (predict_positive & actual_positive).sum()\n",
        "  tn = (predict_negative & actual_negative).sum()\n",
        "\n",
        "  fp = (predict_positive & actual_negative).sum()\n",
        "  fn = (predict_negative & actual_positive).sum()\n",
        "\n",
        "  precision = tp/(tp+fp)\n",
        "  recall = tp/(tp+fn)\n",
        "\n",
        "  precisions.append(precision)\n",
        "  recalls.append(recall)"
      ],
      "execution_count": 14,
      "outputs": [
        {
          "output_type": "stream",
          "name": "stderr",
          "text": [
            "/usr/local/lib/python3.7/dist-packages/ipykernel_launcher.py:19: RuntimeWarning: invalid value encountered in long_scalars\n",
            "/usr/local/lib/python3.7/dist-packages/ipykernel_launcher.py:19: RuntimeWarning: invalid value encountered in long_scalars\n",
            "/usr/local/lib/python3.7/dist-packages/ipykernel_launcher.py:19: RuntimeWarning: invalid value encountered in long_scalars\n",
            "/usr/local/lib/python3.7/dist-packages/ipykernel_launcher.py:19: RuntimeWarning: invalid value encountered in long_scalars\n",
            "/usr/local/lib/python3.7/dist-packages/ipykernel_launcher.py:19: RuntimeWarning: invalid value encountered in long_scalars\n",
            "/usr/local/lib/python3.7/dist-packages/ipykernel_launcher.py:19: RuntimeWarning: invalid value encountered in long_scalars\n",
            "/usr/local/lib/python3.7/dist-packages/ipykernel_launcher.py:19: RuntimeWarning: invalid value encountered in long_scalars\n"
          ]
        }
      ]
    },
    {
      "cell_type": "markdown",
      "metadata": {
        "id": "IgjzVUtqs7HY"
      },
      "source": [
        "At which threshold precision and recall curves intersect?\n",
        "\n",
        "* 0.2\n",
        "* 0.4\n",
        "* 0.6\n",
        "* 0.8"
      ]
    },
    {
      "cell_type": "code",
      "metadata": {
        "id": "J5iWeWcJoKY_",
        "outputId": "76716af4-deae-4b4b-fd07-b3087def73d7",
        "colab": {
          "base_uri": "https://localhost:8080/",
          "height": 282
        }
      },
      "source": [
        "plt.plot(thresholds, precisions, label = 'precision')\n",
        "plt.plot(thresholds, recalls, label = 'recall')\n",
        "plt.legend()"
      ],
      "execution_count": 15,
      "outputs": [
        {
          "output_type": "execute_result",
          "data": {
            "text/plain": [
              "<matplotlib.legend.Legend at 0x7f9d0dd91e10>"
            ]
          },
          "metadata": {},
          "execution_count": 15
        },
        {
          "output_type": "display_data",
          "data": {
            "image/png": "[encoded data removed]",
            "text/plain": [
              "<Figure size 432x288 with 1 Axes>"
            ]
          },
          "metadata": {
            "needs_background": "light"
          }
        }
      ]
    },
    {
      "cell_type": "markdown",
      "metadata": {
        "id": "afwFwdcls7HY"
      },
      "source": [
        "## Question 4\n",
        "\n",
        "Precision and recall are conflicting - when one grows, the other goes down. That's why they are often combined into the F1 score - a metrics that takes into account both\n",
        "\n",
        "This is the formula for computing F1:\n",
        "\n",
        "$$F_1 = 2 \\cdot \\cfrac{P \\cdot R}{P + R}$$\n",
        "\n",
        "Where $P$ is precision and $R$ is recall.\n",
        "\n",
        "Let's compute F1 for all thresholds from 0.0 to 1.0 with increment 0.01"
      ]
    },
    {
      "cell_type": "markdown",
      "metadata": {
        "id": "p1B9ybcNs7HY"
      },
      "source": [
        "At which threshold F1 is maximal?\n",
        "\n",
        "- 0.1\n",
        "- 0.3\n",
        "- 0.5\n",
        "- 0.7"
      ]
    },
    {
      "cell_type": "code",
      "metadata": {
        "id": "Bl98kz_d6g1i",
        "outputId": "0d53700c-23cf-4e8c-aa64-689c93cc6445",
        "colab": {
          "base_uri": "https://localhost:8080/",
          "height": 399
        }
      },
      "source": [
        "thresholds = np.linspace(0, 1, 101)\n",
        "f1_scores = []\n",
        "\n",
        "y_val = df_val['default']\n",
        "y_pred = y_pred_val[:, 1].round(3)\n",
        "for t in thresholds:\n",
        "  actual_positive = (y_val == 1)\n",
        "  actual_negative = (y_val == 0)\n",
        "\n",
        "  predict_positive = (y_pred >= t)\n",
        "  predict_negative = (y_pred < t)\n",
        "\n",
        "  tp = (predict_positive & actual_positive).sum()\n",
        "  tn = (predict_negative & actual_negative).sum()\n",
        "\n",
        "  fp = (predict_positive & actual_negative).sum()\n",
        "  fn = (predict_negative & actual_positive).sum()\n",
        "\n",
        "  precision = tp/(tp+fp)\n",
        "  recall = tp/(tp+fn)\n",
        "\n",
        "  f1_score = 2*(precision*recall)/(precision+recall)\n",
        "  f1_scores.append(f1_score)\n",
        "\n",
        "plt.plot(thresholds, f1_scores, label = 'F1-Score')\n",
        "plt.legend()"
      ],
      "execution_count": 16,
      "outputs": [
        {
          "output_type": "stream",
          "name": "stderr",
          "text": [
            "/usr/local/lib/python3.7/dist-packages/ipykernel_launcher.py:19: RuntimeWarning: invalid value encountered in long_scalars\n",
            "/usr/local/lib/python3.7/dist-packages/ipykernel_launcher.py:19: RuntimeWarning: invalid value encountered in long_scalars\n",
            "/usr/local/lib/python3.7/dist-packages/ipykernel_launcher.py:19: RuntimeWarning: invalid value encountered in long_scalars\n",
            "/usr/local/lib/python3.7/dist-packages/ipykernel_launcher.py:19: RuntimeWarning: invalid value encountered in long_scalars\n",
            "/usr/local/lib/python3.7/dist-packages/ipykernel_launcher.py:19: RuntimeWarning: invalid value encountered in long_scalars\n",
            "/usr/local/lib/python3.7/dist-packages/ipykernel_launcher.py:19: RuntimeWarning: invalid value encountered in long_scalars\n",
            "/usr/local/lib/python3.7/dist-packages/ipykernel_launcher.py:19: RuntimeWarning: invalid value encountered in long_scalars\n"
          ]
        },
        {
          "output_type": "execute_result",
          "data": {
            "text/plain": [
              "<matplotlib.legend.Legend at 0x7f9d16838290>"
            ]
          },
          "metadata": {},
          "execution_count": 16
        },
        {
          "output_type": "display_data",
          "data": {
            "image/png": "[encoded data removed]",
            "text/plain": [
              "<Figure size 432x288 with 1 Axes>"
            ]
          },
          "metadata": {
            "needs_background": "light"
          }
        }
      ]
    },
    {
      "cell_type": "markdown",
      "metadata": {
        "id": "XAb7ZHZ0s7HZ"
      },
      "source": [
        "## Question 5\n",
        "\n",
        "\n",
        "Use the `KFold` class from Scikit-Learn to evaluate our model on 5 different folds:\n",
        "\n",
        "```\n",
        "KFold(n_splits=5, shuffle=True, random_state=1)\n",
        "```\n",
        "\n",
        "* Iterate over different folds of `df_full_train`\n",
        "* Split the data into train and validation\n",
        "* Train the model on train with these parameters: `LogisticRegression(solver='liblinear', C=1.0, max_iter=1000)`\n",
        "* Use AUC to evaluate the model on validation\n"
      ]
    },
    {
      "cell_type": "markdown",
      "metadata": {
        "id": "XlGOMk5ms7HZ"
      },
      "source": [
        "How large is standard devidation of the scores across different folds?\n",
        "\n",
        "- 0.001\n",
        "- 0.014\n",
        "- 0.09\n",
        "- 0.14"
      ]
    },
    {
      "cell_type": "code",
      "metadata": {
        "id": "3Fl_Bm8L6You",
        "outputId": "9b35f25f-ebf7-4c78-a532-32eeebc96e9f",
        "colab": {
          "base_uri": "https://localhost:8080/"
        }
      },
      "source": [
        "kfold = KFold(n_splits=5, shuffle=True, random_state=1)\n",
        "\n",
        "auc_scores = []\n",
        "\n",
        "for train_idx, val_idx in kfold.split(df_full_train):\n",
        "  df_train = df_full_train.iloc[train_idx]\n",
        "  df_val = df_full_train.iloc[val_idx]\n",
        "  \n",
        "  dv = DictVectorizer(sparse = False)\n",
        "  train_dict = df_train[columns].to_dict(orient = 'records')\n",
        "  X_train = dv.fit_transform(train_dict)\n",
        "\n",
        "  val_dict = df_val[columns].to_dict(orient='records')\n",
        "  X_val = dv.transform(val_dict)\n",
        "\n",
        "  model = LogisticRegression(solver='liblinear', C=1.0, max_iter=1000)\n",
        "  model.fit(X_train, df_train['default'])\n",
        "  y_pred_val = model.predict_proba(X_val)\n",
        "  score = roc_auc_score(df_val['default'], y_pred_val[:, 1]).round(3)\n",
        "\n",
        "  auc_scores.append(score)\n",
        "\n",
        "np.std(auc_scores)"
      ],
      "execution_count": 17,
      "outputs": [
        {
          "output_type": "execute_result",
          "data": {
            "text/plain": [
              "0.013798550648528236"
            ]
          },
          "metadata": {},
          "execution_count": 17
        }
      ]
    },
    {
      "cell_type": "markdown",
      "metadata": {
        "id": "_WsiRC5vs7HZ"
      },
      "source": [
        "## Question 6\n",
        "\n",
        "Now let's use 5-Fold cross-validation to find the best parameter C\n",
        "\n",
        "* Iterate over the following C values: `[0.01, 0.1, 1, 10]`\n",
        "* Use these parametes for the model: `LogisticRegression(solver='liblinear', C=C, max_iter=1000)`\n",
        "* Compute the mean score as well as the std"
      ]
    },
    {
      "cell_type": "markdown",
      "metadata": {
        "id": "oOlE0M9Us7HZ"
      },
      "source": [
        "Which C leads to the best mean score?\n",
        "\n",
        "- 0.01\n",
        "- 0.1\n",
        "- 1\n",
        "- 10\n",
        "\n",
        "If you have ties, select the score with the lowest std. If you still have ties, select the smallest C"
      ]
    },
    {
      "cell_type": "code",
      "metadata": {
        "id": "AwqrkVQ7s7Ha",
        "outputId": "8a8fd556-4bb1-403d-b415-aad68675fbb0",
        "colab": {
          "base_uri": "https://localhost:8080/"
        }
      },
      "source": [
        "C = [0.01, 0.1, 1, 10]\n",
        "\n",
        "C_scores = {}\n",
        "\n",
        "for c in C:\n",
        "  kfold = KFold(n_splits=5, shuffle=True, random_state=1)\n",
        "\n",
        "  auc_scores = []\n",
        "  for train_idx, val_idx in kfold.split(df_full_train):\n",
        "    df_train = df_full_train.iloc[train_idx]\n",
        "    df_val = df_full_train.iloc[val_idx]\n",
        "    \n",
        "    dv = DictVectorizer(sparse = False)\n",
        "    train_dict = df_train[columns].to_dict(orient = 'records')\n",
        "    X_train = dv.fit_transform(train_dict)\n",
        "\n",
        "    val_dict = df_val[columns].to_dict(orient='records')\n",
        "    X_val = dv.transform(val_dict)\n",
        "\n",
        "    model = LogisticRegression(solver='liblinear', C=c, max_iter=1000)\n",
        "    model.fit(X_train, df_train['default'])\n",
        "    y_pred_val = model.predict_proba(X_val)\n",
        "    score = roc_auc_score(df_val['default'], y_pred_val[:, 1]).round(3)\n",
        "\n",
        "    auc_scores.append(score)\n",
        "    dic = {}\n",
        "    \n",
        "    dic['mean'] = np.mean(auc_scores)\n",
        "    dic['std'] = np.std(auc_scores)\n",
        "\n",
        "    C_scores[c] = dic\n",
        "\n",
        "C_scores"
      ],
      "execution_count": 18,
      "outputs": [
        {
          "output_type": "execute_result",
          "data": {
            "text/plain": [
              "{0.01: {'mean': 0.8078000000000001, 'std': 0.011923086848631064},\n",
              " 0.1: {'mean': 0.8126, 'std': 0.013763720427268164},\n",
              " 1: {'mean': 0.8119999999999999, 'std': 0.013798550648528236},\n",
              " 10: {'mean': 0.8141999999999999, 'std': 0.014661514246488965}}"
            ]
          },
          "metadata": {},
          "execution_count": 18
        }
      ]
    },
    {
      "cell_type": "markdown",
      "metadata": {
        "id": "gpTOBeSss7Ha"
      },
      "source": [
        "## Submit the results\n",
        "\n",
        "Submit your results here: https://forms.gle/e497sR5iB36mM9Cs5\n",
        "\n",
        "It's possible that your answers won't match exactly. If it's the case, select the closest one.\n",
        "\n",
        "## Deadline\n",
        "\n",
        "The deadline for submitting is 04 October 2021, 17:00 CET. After that, the form will be closed."
      ]
    }
  ]
}