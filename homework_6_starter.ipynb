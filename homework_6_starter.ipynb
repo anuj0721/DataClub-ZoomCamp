{
  "nbformat": 4,
  "nbformat_minor": 0,
  "metadata": {
    "kernelspec": {
      "display_name": "Python 3",
      "language": "python",
      "name": "python3"
    },
    "language_info": {
      "codemirror_mode": {
        "name": "ipython",
        "version": 3
      },
      "file_extension": ".py",
      "mimetype": "text/x-python",
      "name": "python",
      "nbconvert_exporter": "python",
      "pygments_lexer": "ipython3",
      "version": "3.7.3"
    },
    "colab": {
      "name": "homework-6-starter.ipynb",
      "provenance": []
    }
  },
  "cells": [
    {
      "cell_type": "markdown",
      "metadata": {
        "id": "faST1vrjfajQ"
      },
      "source": [
        "## 6.10 Homework\n",
        "\n",
        "The goal of this homework is to create a tree-based regression model for prediction apartment prices (column `'price'`).\n",
        "\n",
        "In this homework we'll again use the New York City Airbnb Open Data dataset - the same one we used in homework 2 and 3.\n",
        "\n",
        "You can take it from [Kaggle](https://www.kaggle.com/dgomonov/new-york-city-airbnb-open-data?select=AB_NYC_2019.csv)\n",
        "or download from [here](https://raw.githubusercontent.com/alexeygrigorev/datasets/master/AB_NYC_2019.csv)\n",
        "if you don't want to sign up to Kaggle.\n",
        "\n",
        "Let's load the data:"
      ]
    },
    {
      "cell_type": "code",
      "metadata": {
        "id": "NgxqFgIsfajU"
      },
      "source": [
        "import pandas as pd\n",
        "import numpy as np\n",
        "\n",
        "import matplotlib.pyplot as plt\n",
        "import seaborn as sns\n",
        "\n",
        "from sklearn.feature_extraction import DictVectorizer\n",
        "from sklearn.model_selection import train_test_split\n",
        "from sklearn.tree import DecisionTreeRegressor\n",
        "from sklearn.tree import export_text\n",
        "from sklearn.ensemble import RandomForestRegressor\n",
        "from sklearn.metrics import mean_squared_error\n",
        "\n",
        "%matplotlib inline"
      ],
      "execution_count": 1,
      "outputs": []
    },
    {
      "cell_type": "code",
      "metadata": {
        "id": "2TX0xi4vfhgP",
        "outputId": "b392b8a1-de0a-4b04-8006-2a2138f0c473",
        "colab": {
          "base_uri": "https://localhost:8080/"
        }
      },
      "source": [
        "!wget https://raw.githubusercontent.com/alexeygrigorev/datasets/master/AB_NYC_2019.csv"
      ],
      "execution_count": 2,
      "outputs": [
        {
          "output_type": "stream",
          "name": "stdout",
          "text": [
            "--2021-10-20 11:45:56--  https://raw.githubusercontent.com/alexeygrigorev/datasets/master/AB_NYC_2019.csv\n",
            "Resolving raw.githubusercontent.com (raw.githubusercontent.com)... 185.199.108.133, 185.199.109.133, 185.199.110.133, ...\n",
            "Connecting to raw.githubusercontent.com (raw.githubusercontent.com)|185.199.108.133|:443... connected.\n",
            "HTTP request sent, awaiting response... 200 OK\n",
            "Length: 7077973 (6.8M) [text/plain]\n",
            "Saving to: ‘AB_NYC_2019.csv.3’\n",
            "\n",
            "\rAB_NYC_2019.csv.3     0%[                    ]       0  --.-KB/s               \rAB_NYC_2019.csv.3   100%[===================>]   6.75M  --.-KB/s    in 0.1s    \n",
            "\n",
            "2021-10-20 11:45:56 (46.0 MB/s) - ‘AB_NYC_2019.csv.3’ saved [7077973/7077973]\n",
            "\n"
          ]
        }
      ]
    },
    {
      "cell_type": "code",
      "metadata": {
        "id": "zmjykWm5fajW"
      },
      "source": [
        "columns = [\n",
        "    'neighbourhood_group', 'room_type', 'latitude', 'longitude',\n",
        "    'minimum_nights', 'number_of_reviews','reviews_per_month',\n",
        "    'calculated_host_listings_count', 'availability_365',\n",
        "    'price'\n",
        "]\n",
        "\n",
        "df = pd.read_csv('AB_NYC_2019.csv', usecols=columns)\n",
        "df.reviews_per_month = df.reviews_per_month.fillna(0)"
      ],
      "execution_count": 3,
      "outputs": []
    },
    {
      "cell_type": "markdown",
      "metadata": {
        "id": "zUGQrGutfajW"
      },
      "source": [
        "* Apply the log tranform to `price`\n",
        "* Do train/validation/test split with 60%/20%/20% distribution. \n",
        "* Use the `train_test_split` function and set the `random_state` parameter to 1"
      ]
    },
    {
      "cell_type": "code",
      "metadata": {
        "id": "2vdYKtwgfajX"
      },
      "source": [
        "df['price_log'] = np.log1p(df.price)\n",
        "price = df['price']\n",
        "df.drop('price', axis = 1, inplace = True)"
      ],
      "execution_count": 4,
      "outputs": []
    },
    {
      "cell_type": "code",
      "metadata": {
        "id": "HGZuxH1-f48e"
      },
      "source": [
        "df_full_train, df_test = train_test_split(df, test_size=0.2, random_state=1)\n",
        "df_train, df_val = train_test_split(df_full_train, test_size=0.25, random_state=1)"
      ],
      "execution_count": 5,
      "outputs": []
    },
    {
      "cell_type": "code",
      "metadata": {
        "id": "4J13kgOvf5Ej"
      },
      "source": [
        "df_train = df_train.reset_index(drop=True)\n",
        "y_train = df_train['price_log']\n",
        "df_val = df_val.reset_index(drop=True)\n",
        "y_val = df_val['price_log']\n",
        "df_test = df_test.reset_index(drop=True)\n",
        "y_test = df_test['price_log']\n",
        "\n",
        "del df_train['price_log']\n",
        "del df_val['price_log']\n",
        "del df_test['price_log']"
      ],
      "execution_count": 6,
      "outputs": []
    },
    {
      "cell_type": "markdown",
      "metadata": {
        "id": "YC4e4HbffajX"
      },
      "source": [
        "Now, use `DictVectorizer` to turn train and validation into matrices:"
      ]
    },
    {
      "cell_type": "code",
      "metadata": {
        "id": "39S-94M_fajX"
      },
      "source": [
        "train_dicts = df_train.to_dict(orient = 'records')\n",
        "val_dicts = df_val.to_dict(orient = 'records')\n",
        "\n",
        "dv = DictVectorizer(sparse=False)\n",
        "X_train = dv.fit_transform(train_dicts)\n",
        "X_val = dv.transform(val_dicts)"
      ],
      "execution_count": 7,
      "outputs": []
    },
    {
      "cell_type": "markdown",
      "metadata": {
        "id": "mcZ1TxpLfajY"
      },
      "source": [
        "## Question 1\n",
        "\n",
        "Let's train a decision tree regressor to predict the price variable. \n",
        "\n",
        "* Train a model with `max_depth=1`"
      ]
    },
    {
      "cell_type": "code",
      "metadata": {
        "id": "jUAni0BUfajY",
        "outputId": "4c2667f3-9cea-4a0a-b1b4-0e517c0f5da1",
        "colab": {
          "base_uri": "https://localhost:8080/"
        }
      },
      "source": [
        "dt = DecisionTreeRegressor(max_depth = 1)\n",
        "dt.fit(X_train, y_train)"
      ],
      "execution_count": 8,
      "outputs": [
        {
          "output_type": "execute_result",
          "data": {
            "text/plain": [
              "DecisionTreeRegressor(ccp_alpha=0.0, criterion='mse', max_depth=1,\n",
              "                      max_features=None, max_leaf_nodes=None,\n",
              "                      min_impurity_decrease=0.0, min_impurity_split=None,\n",
              "                      min_samples_leaf=1, min_samples_split=2,\n",
              "                      min_weight_fraction_leaf=0.0, presort='deprecated',\n",
              "                      random_state=None, splitter='best')"
            ]
          },
          "metadata": {},
          "execution_count": 8
        }
      ]
    },
    {
      "cell_type": "markdown",
      "metadata": {
        "id": "w-aQdqX2fajZ"
      },
      "source": [
        "Which feature is used for splitting the data?\n",
        "\n",
        "* `room_type`\n",
        "* `neighbourhood_group`\n",
        "* `number_of_reviews`\n",
        "* `reviews_per_month`"
      ]
    },
    {
      "cell_type": "code",
      "metadata": {
        "id": "eFWGWaByfaja",
        "outputId": "bef498e0-1440-4fda-bffd-da910a420210",
        "colab": {
          "base_uri": "https://localhost:8080/"
        }
      },
      "source": [
        "print(export_text(dt, feature_names=dv.get_feature_names()))"
      ],
      "execution_count": 9,
      "outputs": [
        {
          "output_type": "stream",
          "name": "stdout",
          "text": [
            "|--- room_type=Entire home/apt <= 0.50\n",
            "|   |--- value: [4.29]\n",
            "|--- room_type=Entire home/apt >  0.50\n",
            "|   |--- value: [5.15]\n",
            "\n"
          ]
        }
      ]
    },
    {
      "cell_type": "markdown",
      "metadata": {
        "id": "Gl_iiZ__fajZ"
      },
      "source": [
        "## Question 2\n",
        "\n",
        "Train a random forest model with these parameters:\n",
        "\n",
        "* `n_estimators=10`\n",
        "* `random_state=1`\n",
        "* `n_jobs=-1`  (optional - to make training faster)"
      ]
    },
    {
      "cell_type": "markdown",
      "metadata": {
        "id": "5HFQ5pS5faja"
      },
      "source": [
        "What's the RMSE of this model on validation?\n",
        "\n",
        "* 0.059\n",
        "* 0.259\n",
        "* 0.459\n",
        "* 0.659"
      ]
    },
    {
      "cell_type": "code",
      "metadata": {
        "id": "Cwb5lUKAgI__",
        "outputId": "5963e650-5be6-455b-df84-10123e17e756",
        "colab": {
          "base_uri": "https://localhost:8080/"
        }
      },
      "source": [
        "rf = RandomForestRegressor(n_estimators = 10, random_state = 1, n_jobs = -1)\n",
        "rf.fit(X_train, y_train)\n",
        "y_pred = rf.predict(X_val)\n",
        "rms = mean_squared_error(y_val, y_pred, squared = False)\n",
        "rms"
      ],
      "execution_count": 12,
      "outputs": [
        {
          "output_type": "execute_result",
          "data": {
            "text/plain": [
              "0.460888788095762"
            ]
          },
          "metadata": {},
          "execution_count": 12
        }
      ]
    },
    {
      "cell_type": "markdown",
      "metadata": {
        "id": "vpAFZ8utfaja"
      },
      "source": [
        "## Question 3\n",
        "\n",
        "Now let's experiment with the `n_estimators` parameter\n",
        "\n",
        "* Try different values of this parameter from 10 to 200 with step 10\n",
        "* Set `random_state` to `1`\n",
        "* Evaluate the model on the validation dataset"
      ]
    },
    {
      "cell_type": "code",
      "metadata": {
        "id": "P0Qfu8onfajb"
      },
      "source": [
        "n_estimators = list(np.arange(10, 201, 10))"
      ],
      "execution_count": 13,
      "outputs": []
    },
    {
      "cell_type": "code",
      "metadata": {
        "id": "_trL9mbQgNwf",
        "outputId": "36887d11-3a9b-4820-f97e-96bb1d49bb07",
        "colab": {
          "base_uri": "https://localhost:8080/"
        }
      },
      "source": [
        "scores = []\n",
        "for n_estimator in n_estimators:\n",
        "  rf = RandomForestRegressor(n_estimators=n_estimator, random_state=1, n_jobs = -1)\n",
        "  rf.fit(X_train, y_train)\n",
        "  pred = rf.predict(X_val)\n",
        "  scores.append(mean_squared_error(y_val, pred, squared = False))\n",
        "\n",
        "scores"
      ],
      "execution_count": 16,
      "outputs": [
        {
          "output_type": "execute_result",
          "data": {
            "text/plain": [
              "[0.460888788095762,\n",
              " 0.44744055425901735,\n",
              " 0.44440015830200136,\n",
              " 0.44281711871165336,\n",
              " 0.44176815762157207,\n",
              " 0.44125165338475053,\n",
              " 0.44064455072014125,\n",
              " 0.440740830263047,\n",
              " 0.4402749020311618,\n",
              " 0.4397631903425602,\n",
              " 0.4393128261208466,\n",
              " 0.43912990819267467,\n",
              " 0.4392796575512702,\n",
              " 0.4391514983746916,\n",
              " 0.43902892484355854,\n",
              " 0.4388423640549406,\n",
              " 0.4387460509023033,\n",
              " 0.4388528948224223,\n",
              " 0.4387907435385231,\n",
              " 0.4387871286025359]"
            ]
          },
          "metadata": {},
          "execution_count": 16
        }
      ]
    },
    {
      "cell_type": "markdown",
      "metadata": {
        "id": "YWK4EZKbfajb"
      },
      "source": [
        "After which value of `n_estimators` does RMSE stop improving?\n",
        "\n",
        "- 10\n",
        "- 50\n",
        "- 70\n",
        "- 120"
      ]
    },
    {
      "cell_type": "code",
      "metadata": {
        "id": "JbJzkmbWgSx1",
        "outputId": "1498b8f8-ba08-43b6-c0a1-f794be9871a1",
        "colab": {
          "base_uri": "https://localhost:8080/",
          "height": 282
        }
      },
      "source": [
        "import matplotlib.pyplot as plt\n",
        "plt.plot(n_estimators, scores)"
      ],
      "execution_count": 17,
      "outputs": [
        {
          "output_type": "execute_result",
          "data": {
            "text/plain": [
              "[<matplotlib.lines.Line2D at 0x7fe727901c90>]"
            ]
          },
          "metadata": {},
          "execution_count": 17
        },
        {
          "output_type": "display_data",
          "data": {
            "image/png": "[encoded data removed]",
            "text/plain": [
              "<Figure size 432x288 with 1 Axes>"
            ]
          },
          "metadata": {
            "needs_background": "light"
          }
        }
      ]
    },
    {
      "cell_type": "markdown",
      "metadata": {
        "id": "Fqtkyv19fajb"
      },
      "source": [
        "## Question 4\n",
        "\n",
        "Let's select the best `max_depth`:\n",
        "\n",
        "* Try different values of `max_depth`: `[10, 15, 20, 25]`\n",
        "* For each of these values, try different values of `n_estimators` from 10 till 200 (with step 10)\n",
        "* Fix the random seed: `random_state=1`"
      ]
    },
    {
      "cell_type": "code",
      "metadata": {
        "id": "f-NxgF3afajc"
      },
      "source": [
        "different_depth = {}\n",
        "\n",
        "max_depth = [10, 15, 20, 25]\n",
        "\n",
        "for depth in max_depth:\n",
        "  rmse = []\n",
        "  for n_estimator in list(np.arange(10, 201, 10)):\n",
        "    rf = RandomForestRegressor(n_estimators=n_estimator, random_state=1, n_jobs = -1, max_depth=depth)\n",
        "    rf.fit(X_train, y_train)\n",
        "    pred = rf.predict(X_val)\n",
        "    rmse.append((n_estimator, mean_squared_error(y_val, pred, squared = False)))\n",
        "    different_depth[depth] = rmse"
      ],
      "execution_count": 27,
      "outputs": []
    },
    {
      "cell_type": "code",
      "metadata": {
        "id": "TYr6PKFRrtRN",
        "outputId": "5bcdc461-0491-4524-e909-54eb53aaacec",
        "colab": {
          "base_uri": "https://localhost:8080/",
          "height": 265
        }
      },
      "source": [
        "for depth, rmses in different_depth.items():\n",
        "  plt.plot(*zip(*rmses), label='depth = %d' % depth)\n",
        "  plt.xlim(0, 200)\n",
        "plt.grid()\n",
        "plt.legend()\n",
        "plt.show()"
      ],
      "execution_count": 28,
      "outputs": [
        {
          "output_type": "display_data",
          "data": {
            "image/png": "[encoded data removed]",
            "text/plain": [
              "<Figure size 432x288 with 1 Axes>"
            ]
          },
          "metadata": {
            "needs_background": "light"
          }
        }
      ]
    },
    {
      "cell_type": "markdown",
      "metadata": {
        "id": "1HJHL9lvfajc"
      },
      "source": [
        "What's the best `max_depth`:\n",
        "\n",
        "* 10\n",
        "* 15\n",
        "* 20\n",
        "* 25\n",
        "\n",
        "Bonus question (not graded):\n",
        "\n",
        "Will the answer be different if we change the seed for the model?"
      ]
    },
    {
      "cell_type": "markdown",
      "metadata": {
        "id": "5stt1_yUfajc"
      },
      "source": [
        "## Question 5\n",
        "\n",
        "We can extract feature importance information from tree-based models. \n",
        "\n",
        "At each step of the decision tree learning algorith, it finds the best split. \n",
        "When doint it, we can calculate \"gain\" - the reduction in impurity before and after the split. \n",
        "This gain is quite useful in understanding what are the imporatant features \n",
        "for tree-based models.\n",
        "\n",
        "In Scikit-Learn, tree-based models contain this information in the `feature_importances_` field. \n",
        "\n",
        "For this homework question, we'll find the most important feature:\n",
        "\n",
        "* Train the model with these parametes:\n",
        "    * `n_estimators=10`,\n",
        "    * `max_depth=20`,\n",
        "    * `random_state=1`,\n",
        "    * `n_jobs=-1` (optional)\n",
        "* Get the feature importance information from this model"
      ]
    },
    {
      "cell_type": "code",
      "metadata": {
        "id": "gkmVyLSvfajd",
        "outputId": "15d03053-ad5c-44a8-91ef-8253d5d75d73",
        "colab": {
          "base_uri": "https://localhost:8080/"
        }
      },
      "source": [
        "rf = RandomForestRegressor(n_estimators = 10, max_depth = 20, random_state = 1, n_jobs = -1)\n",
        "rf.fit(X_train, y_train)"
      ],
      "execution_count": 29,
      "outputs": [
        {
          "output_type": "execute_result",
          "data": {
            "text/plain": [
              "RandomForestRegressor(bootstrap=True, ccp_alpha=0.0, criterion='mse',\n",
              "                      max_depth=20, max_features='auto', max_leaf_nodes=None,\n",
              "                      max_samples=None, min_impurity_decrease=0.0,\n",
              "                      min_impurity_split=None, min_samples_leaf=1,\n",
              "                      min_samples_split=2, min_weight_fraction_leaf=0.0,\n",
              "                      n_estimators=10, n_jobs=-1, oob_score=False,\n",
              "                      random_state=1, verbose=0, warm_start=False)"
            ]
          },
          "metadata": {},
          "execution_count": 29
        }
      ]
    },
    {
      "cell_type": "markdown",
      "metadata": {
        "id": "20hfBZ44fajd"
      },
      "source": [
        "What's the most important feature? \n",
        "\n",
        "* `neighbourhood_group=Manhattan`\n",
        "* `room_type=Entire home/apt`\t\n",
        "* `longitude`\n",
        "* `latitude`"
      ]
    },
    {
      "cell_type": "code",
      "metadata": {
        "id": "iUniJEi4gdzu",
        "outputId": "4a48711a-0200-43e3-f3ee-ef384c5ca6b9",
        "colab": {
          "base_uri": "https://localhost:8080/"
        }
      },
      "source": [
        "list(zip(dv.get_feature_names(), rf.feature_importances_))"
      ],
      "execution_count": 30,
      "outputs": [
        {
          "output_type": "execute_result",
          "data": {
            "text/plain": [
              "[('availability_365', 0.07651608462923112),\n",
              " ('calculated_host_listings_count', 0.030906352520589986),\n",
              " ('latitude', 0.15205397490899036),\n",
              " ('longitude', 0.15321933669623872),\n",
              " ('minimum_nights', 0.0536452299566982),\n",
              " ('neighbourhood_group=Bronx', 0.0002838225491492307),\n",
              " ('neighbourhood_group=Brooklyn', 0.0011661162111558155),\n",
              " ('neighbourhood_group=Manhattan', 0.03401674428986242),\n",
              " ('neighbourhood_group=Queens', 0.0011532423357895512),\n",
              " ('neighbourhood_group=Staten Island', 0.00011802695206485345),\n",
              " ('number_of_reviews', 0.0435248857335957),\n",
              " ('reviews_per_month', 0.05243793489874994),\n",
              " ('room_type=Entire home/apt', 0.3918968371926611),\n",
              " ('room_type=Private room', 0.004520617592045859),\n",
              " ('room_type=Shared room', 0.004540793533177226)]"
            ]
          },
          "metadata": {},
          "execution_count": 30
        }
      ]
    },
    {
      "cell_type": "code",
      "metadata": {
        "id": "UYNjnbxwgiIv",
        "outputId": "636c9dc1-ead3-4aad-8d4f-5350a4d1f739",
        "colab": {
          "base_uri": "https://localhost:8080/",
          "height": 511
        }
      },
      "source": [
        "importances = list(zip(dv.get_feature_names(), rf.feature_importances_))\n",
        "\n",
        "df_importance = pd.DataFrame(importances, columns=['feature', 'gain'])\n",
        "df_importance = df_importance.sort_values(by='gain', ascending=False)\n",
        "df_importance"
      ],
      "execution_count": 31,
      "outputs": [
        {
          "output_type": "execute_result",
          "data": {
            "text/html": [
              "<div>\n",
              "<style scoped>\n",
              "    .dataframe tbody tr th:only-of-type {\n",
              "        vertical-align: middle;\n",
              "    }\n",
              "\n",
              "    .dataframe tbody tr th {\n",
              "        vertical-align: top;\n",
              "    }\n",
              "\n",
              "    .dataframe thead th {\n",
              "        text-align: right;\n",
              "    }\n",
              "</style>\n",
              "<table border=\"1\" class=\"dataframe\">\n",
              "  <thead>\n",
              "    <tr style=\"text-align: right;\">\n",
              "      <th></th>\n",
              "      <th>feature</th>\n",
              "      <th>gain</th>\n",
              "    </tr>\n",
              "  </thead>\n",
              "  <tbody>\n",
              "    <tr>\n",
              "      <th>12</th>\n",
              "      <td>room_type=Entire home/apt</td>\n",
              "      <td>0.391897</td>\n",
              "    </tr>\n",
              "    <tr>\n",
              "      <th>3</th>\n",
              "      <td>longitude</td>\n",
              "      <td>0.153219</td>\n",
              "    </tr>\n",
              "    <tr>\n",
              "      <th>2</th>\n",
              "      <td>latitude</td>\n",
              "      <td>0.152054</td>\n",
              "    </tr>\n",
              "    <tr>\n",
              "      <th>0</th>\n",
              "      <td>availability_365</td>\n",
              "      <td>0.076516</td>\n",
              "    </tr>\n",
              "    <tr>\n",
              "      <th>4</th>\n",
              "      <td>minimum_nights</td>\n",
              "      <td>0.053645</td>\n",
              "    </tr>\n",
              "    <tr>\n",
              "      <th>11</th>\n",
              "      <td>reviews_per_month</td>\n",
              "      <td>0.052438</td>\n",
              "    </tr>\n",
              "    <tr>\n",
              "      <th>10</th>\n",
              "      <td>number_of_reviews</td>\n",
              "      <td>0.043525</td>\n",
              "    </tr>\n",
              "    <tr>\n",
              "      <th>7</th>\n",
              "      <td>neighbourhood_group=Manhattan</td>\n",
              "      <td>0.034017</td>\n",
              "    </tr>\n",
              "    <tr>\n",
              "      <th>1</th>\n",
              "      <td>calculated_host_listings_count</td>\n",
              "      <td>0.030906</td>\n",
              "    </tr>\n",
              "    <tr>\n",
              "      <th>14</th>\n",
              "      <td>room_type=Shared room</td>\n",
              "      <td>0.004541</td>\n",
              "    </tr>\n",
              "    <tr>\n",
              "      <th>13</th>\n",
              "      <td>room_type=Private room</td>\n",
              "      <td>0.004521</td>\n",
              "    </tr>\n",
              "    <tr>\n",
              "      <th>6</th>\n",
              "      <td>neighbourhood_group=Brooklyn</td>\n",
              "      <td>0.001166</td>\n",
              "    </tr>\n",
              "    <tr>\n",
              "      <th>8</th>\n",
              "      <td>neighbourhood_group=Queens</td>\n",
              "      <td>0.001153</td>\n",
              "    </tr>\n",
              "    <tr>\n",
              "      <th>5</th>\n",
              "      <td>neighbourhood_group=Bronx</td>\n",
              "      <td>0.000284</td>\n",
              "    </tr>\n",
              "    <tr>\n",
              "      <th>9</th>\n",
              "      <td>neighbourhood_group=Staten Island</td>\n",
              "      <td>0.000118</td>\n",
              "    </tr>\n",
              "  </tbody>\n",
              "</table>\n",
              "</div>"
            ],
            "text/plain": [
              "                              feature      gain\n",
              "12          room_type=Entire home/apt  0.391897\n",
              "3                           longitude  0.153219\n",
              "2                            latitude  0.152054\n",
              "0                    availability_365  0.076516\n",
              "4                      minimum_nights  0.053645\n",
              "11                  reviews_per_month  0.052438\n",
              "10                  number_of_reviews  0.043525\n",
              "7       neighbourhood_group=Manhattan  0.034017\n",
              "1      calculated_host_listings_count  0.030906\n",
              "14              room_type=Shared room  0.004541\n",
              "13             room_type=Private room  0.004521\n",
              "6        neighbourhood_group=Brooklyn  0.001166\n",
              "8          neighbourhood_group=Queens  0.001153\n",
              "5           neighbourhood_group=Bronx  0.000284\n",
              "9   neighbourhood_group=Staten Island  0.000118"
            ]
          },
          "metadata": {},
          "execution_count": 31
        }
      ]
    },
    {
      "cell_type": "markdown",
      "metadata": {
        "id": "J-Ku1h2Ffajd"
      },
      "source": [
        "## Question 6"
      ]
    },
    {
      "cell_type": "markdown",
      "metadata": {
        "id": "eXHZHqDPfajd"
      },
      "source": [
        "Now let's train an XGBoost model! For this question, we'll tune the `eta` parameter\n",
        "\n",
        "* Install XGBoost\n",
        "* Create DMatrix for train and validation\n",
        "* Create a watchlist\n",
        "* Train a model with these parameters for 100 rounds:\n",
        "\n",
        "```\n",
        "xgb_params = {\n",
        "    'eta': 0.3, \n",
        "    'max_depth': 6,\n",
        "    'min_child_weight': 1,\n",
        "    \n",
        "    'objective': 'reg:squarederror',\n",
        "    'nthread': 8,\n",
        "    \n",
        "    'seed': 1,\n",
        "    'verbosity': 1,\n",
        "}\n",
        "```"
      ]
    },
    {
      "cell_type": "code",
      "metadata": {
        "id": "bO2HebQafaje"
      },
      "source": [
        "import xgboost as xgb\n",
        "features = dv.get_feature_names()\n",
        "dtrain = xgb.DMatrix(X_train, label=y_train, feature_names=features)\n",
        "dval = xgb.DMatrix(X_val, label=y_val, feature_names=features)"
      ],
      "execution_count": 50,
      "outputs": []
    },
    {
      "cell_type": "code",
      "metadata": {
        "id": "1ZgjBePrppJw"
      },
      "source": [
        "watchlist = [(dtrain, 'train'), (dval, 'val')]"
      ],
      "execution_count": 51,
      "outputs": []
    },
    {
      "cell_type": "code",
      "metadata": {
        "id": "pDmbVn_Op1NV"
      },
      "source": [
        "%%capture output\n",
        "\n",
        "xgb_params = {\n",
        "    'eta': 0.3, \n",
        "    'max_depth': 6,\n",
        "    'min_child_weight': 1,\n",
        "\n",
        "    'objective': 'reg:squarederror',\n",
        "    'nthread': 8,\n",
        "\n",
        "    'seed': 1,\n",
        "    'verbosity': 1,\n",
        "}"
      ],
      "execution_count": 52,
      "outputs": []
    },
    {
      "cell_type": "code",
      "metadata": {
        "id": "DzEltEJp442O"
      },
      "source": [
        "%%capture output\n",
        "# capture instruction that saves the result to output \n",
        "model = xgb.train(xgb_params, dtrain,\n",
        "                  num_boost_round=100,\n",
        "                  evals=watchlist, verbose_eval=10)"
      ],
      "execution_count": 55,
      "outputs": []
    },
    {
      "cell_type": "code",
      "metadata": {
        "id": "9ZkFD1vnqYrp"
      },
      "source": [
        "def parse_xgb_output(output):\n",
        "    tree = []\n",
        "    p_train = []\n",
        "    p_val = []\n",
        "\n",
        "    for line in output.stdout.strip().split('\\n'):\n",
        "        it_line, train_line, val_line = line.split('\\t')\n",
        "\n",
        "        it = int(it_line.strip('[]'))\n",
        "        train = float(train_line.split(':')[1])\n",
        "        val = float(val_line.split(':')[1])\n",
        "\n",
        "        tree.append(it)\n",
        "        p_train.append(train)\n",
        "        p_val.append(val)\n",
        "\n",
        "    return tree, p_train, p_val\n",
        "#enddef\n",
        "tree, p_train, p_val = parse_xgb_output(output)"
      ],
      "execution_count": 56,
      "outputs": []
    },
    {
      "cell_type": "code",
      "metadata": {
        "id": "2CFqyBr4zH1V",
        "outputId": "e2ba992e-b0a2-4aa1-f772-bcc3d103bebb",
        "colab": {
          "base_uri": "https://localhost:8080/"
        }
      },
      "source": [
        "print('Best performance ', min(zip(p_val, tree)))"
      ],
      "execution_count": 57,
      "outputs": [
        {
          "output_type": "stream",
          "name": "stdout",
          "text": [
            "Best performance  (0.432784, 70)\n"
          ]
        }
      ]
    },
    {
      "cell_type": "markdown",
      "metadata": {
        "id": "qU1lt2Uzfaje"
      },
      "source": [
        "Now change `eta` first to `0.1` and then to `0.01`"
      ]
    },
    {
      "cell_type": "code",
      "metadata": {
        "id": "KL_BSrLTfaje"
      },
      "source": [
        "%%capture output_010\n",
        "# capture instruction that saves the result to output \n",
        "xgb_params['eta'] = 0.1\n",
        "model = xgb.train(xgb_params, dtrain,\n",
        "                  num_boost_round=100,\n",
        "                  evals=watchlist, verbose_eval=10)"
      ],
      "execution_count": 58,
      "outputs": []
    },
    {
      "cell_type": "code",
      "metadata": {
        "id": "M6cDq8yF5IUg",
        "outputId": "1add6459-2916-48d9-f32f-0b3d40be1295",
        "colab": {
          "base_uri": "https://localhost:8080/"
        }
      },
      "source": [
        "tree, _, p_val = parse_xgb_output(output_010)\n",
        "print(f'Eta={xgb_params[\"eta\"]} : Best performance ', min(zip(p_val, tree)))"
      ],
      "execution_count": 59,
      "outputs": [
        {
          "output_type": "stream",
          "name": "stdout",
          "text": [
            "Eta=0.1 : Best performance  (0.432873, 99)\n"
          ]
        }
      ]
    },
    {
      "cell_type": "code",
      "metadata": {
        "id": "rhhUCLf45IW6"
      },
      "source": [
        "%%capture output_001\n",
        "# capture instruction that saves the result to output \n",
        "xgb_params['eta'] = 0.01\n",
        "model = xgb.train(xgb_params, dtrain,\n",
        "                  num_boost_round=100,\n",
        "                  evals=watchlist, verbose_eval=10)"
      ],
      "execution_count": 60,
      "outputs": []
    },
    {
      "cell_type": "code",
      "metadata": {
        "id": "qEwyAOMN5S4a",
        "outputId": "ad2c05cd-633a-4585-c64a-5f790f753bce",
        "colab": {
          "base_uri": "https://localhost:8080/"
        }
      },
      "source": [
        "tree, _, p_val = parse_xgb_output(output_001)\n",
        "print(f'Eta={xgb_params[\"eta\"]} : Best performance ', min(zip(p_val, tree)))"
      ],
      "execution_count": 61,
      "outputs": [
        {
          "output_type": "stream",
          "name": "stdout",
          "text": [
            "Eta=0.01 : Best performance  (1.63049, 99)\n"
          ]
        }
      ]
    },
    {
      "cell_type": "markdown",
      "metadata": {
        "id": "UMwM8Qxifaje"
      },
      "source": [
        "Which eta leads to the best RMSE score on the validation dataset?\n",
        "\n",
        "* 0.3\n",
        "* 0.1\n",
        "* 0.01"
      ]
    },
    {
      "cell_type": "markdown",
      "metadata": {
        "id": "lmlCZy5Kfaje"
      },
      "source": [
        "## Submit the results\n",
        "\n",
        "\n",
        "Submit your results here: https://forms.gle/wQgFkYE6CtdDed4w8\n",
        "\n",
        "It's possible that your answers won't match exactly. If it's the case, select the closest one.\n",
        "\n",
        "\n",
        "## Deadline\n",
        "\n",
        "\n",
        "The deadline for submitting is 20 October 2021, 17:00 CET (Wednesday). After that, the form will be closed.\n",
        "\n"
      ]
    }
  ]
}